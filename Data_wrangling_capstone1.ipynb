{
 "cells": [
  {
   "cell_type": "code",
   "execution_count": 1,
   "metadata": {},
   "outputs": [],
   "source": [
    "import numpy as np\n",
    "import pandas as pd"
   ]
  },
  {
   "cell_type": "code",
   "execution_count": 2,
   "metadata": {},
   "outputs": [
    {
     "name": "stdout",
     "output_type": "stream",
     "text": [
      "<class 'pandas.core.frame.DataFrame'>\n",
      "RangeIndex: 3421083 entries, 0 to 3421082\n",
      "Data columns (total 7 columns):\n",
      "order_id                  int64\n",
      "user_id                   int64\n",
      "eval_set                  object\n",
      "order_number              int64\n",
      "order_dow                 int64\n",
      "order_hour_of_day         int64\n",
      "days_since_prior_order    float64\n",
      "dtypes: float64(1), int64(5), object(1)\n",
      "memory usage: 182.7+ MB\n"
     ]
    }
   ],
   "source": [
    "#check orders\n",
    "ord_df = pd.read_csv('C:/DS/Springboard/1st_capstone_project/orders.csv')\n",
    "ord_df.info()"
   ]
  },
  {
   "cell_type": "code",
   "execution_count": 4,
   "metadata": {},
   "outputs": [
    {
     "data": {
      "text/html": [
       "<div>\n",
       "<style scoped>\n",
       "    .dataframe tbody tr th:only-of-type {\n",
       "        vertical-align: middle;\n",
       "    }\n",
       "\n",
       "    .dataframe tbody tr th {\n",
       "        vertical-align: top;\n",
       "    }\n",
       "\n",
       "    .dataframe thead th {\n",
       "        text-align: right;\n",
       "    }\n",
       "</style>\n",
       "<table border=\"1\" class=\"dataframe\">\n",
       "  <thead>\n",
       "    <tr style=\"text-align: right;\">\n",
       "      <th></th>\n",
       "      <th>order_id</th>\n",
       "      <th>user_id</th>\n",
       "      <th>eval_set</th>\n",
       "      <th>order_number</th>\n",
       "      <th>order_dow</th>\n",
       "      <th>order_hour_of_day</th>\n",
       "      <th>days_since_prior_order</th>\n",
       "    </tr>\n",
       "  </thead>\n",
       "  <tbody>\n",
       "    <tr>\n",
       "      <th>0</th>\n",
       "      <td>2539329</td>\n",
       "      <td>1</td>\n",
       "      <td>prior</td>\n",
       "      <td>1</td>\n",
       "      <td>2</td>\n",
       "      <td>8</td>\n",
       "      <td>NaN</td>\n",
       "    </tr>\n",
       "    <tr>\n",
       "      <th>1</th>\n",
       "      <td>2398795</td>\n",
       "      <td>1</td>\n",
       "      <td>prior</td>\n",
       "      <td>2</td>\n",
       "      <td>3</td>\n",
       "      <td>7</td>\n",
       "      <td>15.0</td>\n",
       "    </tr>\n",
       "    <tr>\n",
       "      <th>2</th>\n",
       "      <td>473747</td>\n",
       "      <td>1</td>\n",
       "      <td>prior</td>\n",
       "      <td>3</td>\n",
       "      <td>3</td>\n",
       "      <td>12</td>\n",
       "      <td>21.0</td>\n",
       "    </tr>\n",
       "    <tr>\n",
       "      <th>3</th>\n",
       "      <td>2254736</td>\n",
       "      <td>1</td>\n",
       "      <td>prior</td>\n",
       "      <td>4</td>\n",
       "      <td>4</td>\n",
       "      <td>7</td>\n",
       "      <td>29.0</td>\n",
       "    </tr>\n",
       "    <tr>\n",
       "      <th>4</th>\n",
       "      <td>431534</td>\n",
       "      <td>1</td>\n",
       "      <td>prior</td>\n",
       "      <td>5</td>\n",
       "      <td>4</td>\n",
       "      <td>15</td>\n",
       "      <td>28.0</td>\n",
       "    </tr>\n",
       "    <tr>\n",
       "      <th>5</th>\n",
       "      <td>3367565</td>\n",
       "      <td>1</td>\n",
       "      <td>prior</td>\n",
       "      <td>6</td>\n",
       "      <td>2</td>\n",
       "      <td>7</td>\n",
       "      <td>19.0</td>\n",
       "    </tr>\n",
       "    <tr>\n",
       "      <th>6</th>\n",
       "      <td>550135</td>\n",
       "      <td>1</td>\n",
       "      <td>prior</td>\n",
       "      <td>7</td>\n",
       "      <td>1</td>\n",
       "      <td>9</td>\n",
       "      <td>20.0</td>\n",
       "    </tr>\n",
       "    <tr>\n",
       "      <th>7</th>\n",
       "      <td>3108588</td>\n",
       "      <td>1</td>\n",
       "      <td>prior</td>\n",
       "      <td>8</td>\n",
       "      <td>1</td>\n",
       "      <td>14</td>\n",
       "      <td>14.0</td>\n",
       "    </tr>\n",
       "    <tr>\n",
       "      <th>8</th>\n",
       "      <td>2295261</td>\n",
       "      <td>1</td>\n",
       "      <td>prior</td>\n",
       "      <td>9</td>\n",
       "      <td>1</td>\n",
       "      <td>16</td>\n",
       "      <td>0.0</td>\n",
       "    </tr>\n",
       "    <tr>\n",
       "      <th>9</th>\n",
       "      <td>2550362</td>\n",
       "      <td>1</td>\n",
       "      <td>prior</td>\n",
       "      <td>10</td>\n",
       "      <td>4</td>\n",
       "      <td>8</td>\n",
       "      <td>30.0</td>\n",
       "    </tr>\n",
       "    <tr>\n",
       "      <th>10</th>\n",
       "      <td>1187899</td>\n",
       "      <td>1</td>\n",
       "      <td>train</td>\n",
       "      <td>11</td>\n",
       "      <td>4</td>\n",
       "      <td>8</td>\n",
       "      <td>14.0</td>\n",
       "    </tr>\n",
       "  </tbody>\n",
       "</table>\n",
       "</div>"
      ],
      "text/plain": [
       "    order_id  user_id eval_set  order_number  order_dow  order_hour_of_day  \\\n",
       "0    2539329        1    prior             1          2                  8   \n",
       "1    2398795        1    prior             2          3                  7   \n",
       "2     473747        1    prior             3          3                 12   \n",
       "3    2254736        1    prior             4          4                  7   \n",
       "4     431534        1    prior             5          4                 15   \n",
       "5    3367565        1    prior             6          2                  7   \n",
       "6     550135        1    prior             7          1                  9   \n",
       "7    3108588        1    prior             8          1                 14   \n",
       "8    2295261        1    prior             9          1                 16   \n",
       "9    2550362        1    prior            10          4                  8   \n",
       "10   1187899        1    train            11          4                  8   \n",
       "\n",
       "    days_since_prior_order  \n",
       "0                      NaN  \n",
       "1                     15.0  \n",
       "2                     21.0  \n",
       "3                     29.0  \n",
       "4                     28.0  \n",
       "5                     19.0  \n",
       "6                     20.0  \n",
       "7                     14.0  \n",
       "8                      0.0  \n",
       "9                     30.0  \n",
       "10                    14.0  "
      ]
     },
     "execution_count": 4,
     "metadata": {},
     "output_type": "execute_result"
    }
   ],
   "source": [
    "ord_df[ord_df['user_id']==1]"
   ]
  },
  {
   "cell_type": "code",
   "execution_count": 45,
   "metadata": {},
   "outputs": [
    {
     "data": {
      "text/plain": [
       "206209"
      ]
     },
     "execution_count": 45,
     "metadata": {},
     "output_type": "execute_result"
    }
   ],
   "source": [
    "#check nan\n",
    "ord_df[\"days_since_prior_order\"].astype(float).isna().sum()"
   ]
  },
  {
   "cell_type": "code",
   "execution_count": 12,
   "metadata": {},
   "outputs": [
    {
     "data": {
      "text/plain": [
       "[3421083, 206209, 3, 100, 7, 24, 31]"
      ]
     },
     "execution_count": 12,
     "metadata": {},
     "output_type": "execute_result"
    }
   ],
   "source": [
    "#check unique values in each column\n",
    "uni_count = [ord_df[column].nunique() for column in ord_df]\n",
    "uni_count"
   ]
  },
  {
   "cell_type": "code",
   "execution_count": 7,
   "metadata": {},
   "outputs": [
    {
     "data": {
      "text/plain": [
       "eval_set\n",
       "prior    206209\n",
       "test      75000\n",
       "train    131209\n",
       "Name: user_id, dtype: int64"
      ]
     },
     "execution_count": 7,
     "metadata": {},
     "output_type": "execute_result"
    }
   ],
   "source": [
    "#check difference between prior, test and train\n",
    "#user id count\n",
    "ord_df.groupby('eval_set')['user_id'].nunique()"
   ]
  },
  {
   "cell_type": "code",
   "execution_count": 20,
   "metadata": {},
   "outputs": [
    {
     "name": "stdout",
     "output_type": "stream",
     "text": [
      "131209\n",
      "75000\n"
     ]
    }
   ],
   "source": [
    "#check whether prior contain users in train and test\n",
    "train_user = ord_df[ord_df['eval_set']=='train']['user_id'].unique()\n",
    "test_user = ord_df[ord_df['eval_set']=='test']['user_id'].unique()\n",
    "prior_user = ord_df[ord_df['eval_set']=='prior']['user_id'].unique()\n",
    "prior_train_user = np.isin(prior_user,train_user).sum()\n",
    "prior_test_user = np.isin(prior_user,test_user).sum()\n",
    "print(prior_train_user)\n",
    "print(prior_test_user)"
   ]
  },
  {
   "cell_type": "code",
   "execution_count": 11,
   "metadata": {},
   "outputs": [
    {
     "data": {
      "text/plain": [
       "eval_set\n",
       "prior    3214874\n",
       "test       75000\n",
       "train     131209\n",
       "Name: order_id, dtype: int64"
      ]
     },
     "execution_count": 11,
     "metadata": {},
     "output_type": "execute_result"
    }
   ],
   "source": [
    "#order id count\n",
    "ord_df.groupby('eval_set')['order_id'].nunique()"
   ]
  },
  {
   "cell_type": "code",
   "execution_count": 21,
   "metadata": {},
   "outputs": [
    {
     "name": "stdout",
     "output_type": "stream",
     "text": [
      "0\n",
      "0\n"
     ]
    }
   ],
   "source": [
    "#check whether prior contain orders in train and test\n",
    "train_order = ord_df[ord_df['eval_set']=='train']['order_id']\n",
    "test_order = ord_df[ord_df['eval_set']=='test']['order_id']\n",
    "prior_train = ord_df[ord_df['eval_set']=='prior']['order_id'].isin(train_order).sum()\n",
    "prior_test = ord_df[ord_df['eval_set']=='prior']['order_id'].isin(test_order).sum()\n",
    "print(prior_test)\n",
    "print(prior_train)"
   ]
  },
  {
   "cell_type": "code",
   "execution_count": 35,
   "metadata": {},
   "outputs": [
    {
     "data": {
      "text/html": [
       "<div>\n",
       "<style scoped>\n",
       "    .dataframe tbody tr th:only-of-type {\n",
       "        vertical-align: middle;\n",
       "    }\n",
       "\n",
       "    .dataframe tbody tr th {\n",
       "        vertical-align: top;\n",
       "    }\n",
       "\n",
       "    .dataframe thead th {\n",
       "        text-align: right;\n",
       "    }\n",
       "</style>\n",
       "<table border=\"1\" class=\"dataframe\">\n",
       "  <thead>\n",
       "    <tr style=\"text-align: right;\">\n",
       "      <th></th>\n",
       "      <th>order_id</th>\n",
       "      <th>user_id</th>\n",
       "      <th>order_number</th>\n",
       "      <th>order_dow</th>\n",
       "      <th>order_hour_of_day</th>\n",
       "      <th>days_since_prior_order</th>\n",
       "    </tr>\n",
       "    <tr>\n",
       "      <th>eval_set</th>\n",
       "      <th></th>\n",
       "      <th></th>\n",
       "      <th></th>\n",
       "      <th></th>\n",
       "      <th></th>\n",
       "      <th></th>\n",
       "    </tr>\n",
       "  </thead>\n",
       "  <tbody>\n",
       "    <tr>\n",
       "      <th>prior</th>\n",
       "      <td>3214874</td>\n",
       "      <td>3214874</td>\n",
       "      <td>3214874</td>\n",
       "      <td>3214874</td>\n",
       "      <td>3214874</td>\n",
       "      <td>3008665</td>\n",
       "    </tr>\n",
       "    <tr>\n",
       "      <th>test</th>\n",
       "      <td>75000</td>\n",
       "      <td>75000</td>\n",
       "      <td>75000</td>\n",
       "      <td>75000</td>\n",
       "      <td>75000</td>\n",
       "      <td>75000</td>\n",
       "    </tr>\n",
       "    <tr>\n",
       "      <th>train</th>\n",
       "      <td>131209</td>\n",
       "      <td>131209</td>\n",
       "      <td>131209</td>\n",
       "      <td>131209</td>\n",
       "      <td>131209</td>\n",
       "      <td>131209</td>\n",
       "    </tr>\n",
       "  </tbody>\n",
       "</table>\n",
       "</div>"
      ],
      "text/plain": [
       "          order_id  user_id  order_number  order_dow  order_hour_of_day  \\\n",
       "eval_set                                                                  \n",
       "prior      3214874  3214874       3214874    3214874            3214874   \n",
       "test         75000    75000         75000      75000              75000   \n",
       "train       131209   131209        131209     131209             131209   \n",
       "\n",
       "          days_since_prior_order  \n",
       "eval_set                          \n",
       "prior                    3008665  \n",
       "test                       75000  \n",
       "train                     131209  "
      ]
     },
     "execution_count": 35,
     "metadata": {},
     "output_type": "execute_result"
    }
   ],
   "source": [
    "#check how many orders each customer make in the three datasets\n",
    "count_eva = ord_df.groupby('eval_set').count()\n",
    "count_days = ord_df[(ord_df['eval_set']=='prior')&(ord_df['days_since_prior_order'].isna())].count()\n",
    "count_eva"
   ]
  },
  {
   "cell_type": "code",
   "execution_count": 42,
   "metadata": {},
   "outputs": [
    {
     "name": "stderr",
     "output_type": "stream",
     "text": [
      "C:\\Users\\cfuth\\Anaconda3\\lib\\site-packages\\numpy\\core\\fromnumeric.py:52: FutureWarning: reshape is deprecated and will raise in a subsequent release. Please use .values.reshape(...) instead\n",
      "  return getattr(obj, method)(*args, **kwds)\n"
     ]
    },
    {
     "data": {
      "image/png": "[encoded data removed]",
      "text/plain": [
       "<matplotlib.figure.Figure at 0x27e031b2898>"
      ]
     },
     "metadata": {},
     "output_type": "display_data"
    }
   ],
   "source": [
    "#box plot to show whether there are outliners\n",
    "fig = plt.figure(figsize=(8,8))\n",
    "a = fig.add_subplot(221)\n",
    "plt.boxplot([ord_df[ord_df['eval_set']=='prior']['order_number'],ord_df[ord_df['eval_set']=='train']['order_number']])\n",
    "a.set_xticks([1,2])\n",
    "a.set_xticklabels(['prior','train'])\n",
    "a.set_title('order numbers')\n",
    "\n",
    "b = fig.add_subplot(222)\n",
    "plt.boxplot([ord_df[ord_df['eval_set']=='prior']['order_dow'],ord_df[ord_df['eval_set']=='train']['order_dow']])\n",
    "b.set_xticks([1,2])\n",
    "b.set_xticklabels(['prior','train'])\n",
    "b.set_title('day of week')\n",
    "\n",
    "c = fig.add_subplot(223)\n",
    "plt.boxplot([ord_df[ord_df['eval_set']=='prior']['order_hour_of_day'],ord_df[ord_df['eval_set']=='train']['order_hour_of_day']])\n",
    "c.set_xticks([1,2])\n",
    "c.set_xticklabels(['prior','train'])\n",
    "c.set_title('hour of day')\n",
    "\n",
    "d = fig.add_subplot(224)\n",
    "plt.boxplot([ord_df[ord_df['eval_set']=='prior']['days_since_prior_order'].dropna(),ord_df[ord_df['eval_set']=='train']['days_since_prior_order']])\n",
    "d.set_xticks([1,2])\n",
    "d.set_xticklabels(['prior','train'])\n",
    "d.set_title('days_since_prior_order')\n",
    "plt.show()"
   ]
  },
  {
   "cell_type": "code",
   "execution_count": 7,
   "metadata": {},
   "outputs": [
    {
     "data": {
      "image/png": "[encoded data removed]",
      "text/plain": [
       "<matplotlib.figure.Figure at 0x1fec62aef98>"
      ]
     },
     "metadata": {},
     "output_type": "display_data"
    }
   ],
   "source": [
    "#check days to prior order distribution \n",
    "import matplotlib.pyplot as plt\n",
    "bins = [0,3,7,10,14,18,21,25,28,30]\n",
    "xlabels = [str(b) for b in bins]\n",
    "fig = plt.figure(figsize=(10,4))\n",
    "a = fig.add_subplot(121)\n",
    "plt.hist(ord_df[ord_df['eval_set']=='train']['days_since_prior_order'],bins=bins,facecolor='g',alpha=0.5)\n",
    "a.set_xticks(bins)\n",
    "a.set_xticklabels(xlabels)\n",
    "a.set_title('train')\n",
    "a.set_xlabel('days since prior order')\n",
    "a.set_ylabel('Count')\n",
    "\n",
    "b = fig.add_subplot(122)\n",
    "plt.hist(ord_df[ord_df['eval_set']=='prior']['days_since_prior_order'].dropna(),bins=bins,facecolor='r',alpha=0.5)\n",
    "b.set_title('prior')\n",
    "b.set_xticks(bins)\n",
    "b.set_xticklabels(xlabels)\n",
    "b.set_xlabel('days since prior order')\n",
    "\n",
    "plt.show()"
   ]
  },
  {
   "cell_type": "code",
   "execution_count": 37,
   "metadata": {},
   "outputs": [
    {
     "data": {
      "image/png": "[encoded data removed]",
      "text/plain": [
       "<matplotlib.figure.Figure at 0x27e030dcef0>"
      ]
     },
     "metadata": {},
     "output_type": "display_data"
    }
   ],
   "source": [
    "#check day of week distribution \n",
    "bins = np.arange(0,8,1)\n",
    "fig = plt.figure(figsize=(10,4))\n",
    "a = fig.add_subplot(121)\n",
    "plt.hist(ord_df[ord_df['eval_set']=='train']['order_dow'],bins=bins,facecolor='g',alpha=0.5)\n",
    "a.set_title('train')\n",
    "a.set_xlabel('order day of week')\n",
    "a.set_ylabel('Count')\n",
    "\n",
    "b = fig.add_subplot(122)\n",
    "plt.hist(ord_df[ord_df['eval_set']=='prior']['order_dow'],bins=bins,facecolor='r',alpha=0.5)\n",
    "b.set_title('prior')\n",
    "b.set_xlabel('order day of week')\n",
    "\n",
    "plt.show()"
   ]
  },
  {
   "cell_type": "code",
   "execution_count": 40,
   "metadata": {},
   "outputs": [
    {
     "data": {
      "image/png": "[encoded data removed]",
      "text/plain": [
       "<matplotlib.figure.Figure at 0x27e02dfef98>"
      ]
     },
     "metadata": {},
     "output_type": "display_data"
    }
   ],
   "source": [
    "#check hour of day distribution\n",
    "bins = np.arange(0,25,2)\n",
    "xlabels = [str(b) for b in bins]\n",
    "fig = plt.figure(figsize=(10,4))\n",
    "a = fig.add_subplot(121)\n",
    "plt.hist(ord_df[ord_df['eval_set']=='train']['order_hour_of_day'],bins=bins,facecolor='g',alpha=0.5)\n",
    "a.set_title('train')\n",
    "a.set_xlabel('order hour of day')\n",
    "a.set_xlim(0,24)\n",
    "a.set_xticks(bins)\n",
    "a.set_xticklabels(xlabels)\n",
    "a.set_ylabel('Count')\n",
    "\n",
    "b = fig.add_subplot(122)\n",
    "plt.hist(ord_df[ord_df['eval_set']=='prior']['order_hour_of_day'],bins=bins,facecolor='r',alpha=0.5)\n",
    "b.set_title('prior')\n",
    "b.set_xlim(0,24)\n",
    "b.set_xticks(bins)\n",
    "b.set_xticklabels(xlabels)\n",
    "b.set_xlabel('order hour of day')\n",
    "\n",
    "plt.show()"
   ]
  },
  {
   "cell_type": "code",
   "execution_count": 9,
   "metadata": {},
   "outputs": [
    {
     "data": {
      "image/png": "[encoded data removed]",
      "text/plain": [
       "<matplotlib.figure.Figure at 0x1fec652ed30>"
      ]
     },
     "metadata": {},
     "output_type": "display_data"
    }
   ],
   "source": [
    "#check how many orders each customer make in the prior and train datasets\n",
    "#plot histogram of order\n",
    "bins = [0,2,5,10,20,30,40,50,75,100]\n",
    "xlabels = [str(b) for b in bins]\n",
    "fig = plt.figure(figsize=(10,4))\n",
    "a = fig.add_subplot(121)\n",
    "plt.hist(ord_df[ord_df['eval_set']=='train']['order_number'],bins=bins,facecolor='g',alpha=0.5)\n",
    "a.set_title('train')\n",
    "a.set_xlabel('order no')\n",
    "a.set_xticks(bins)\n",
    "a.set_xticklabels(xlabels)\n",
    "a.set_ylabel('Count')\n",
    "\n",
    "b = fig.add_subplot(122)\n",
    "plt.hist(ord_df[ord_df['eval_set']=='prior']['order_number'],bins=bins,facecolor='r',alpha=0.5)\n",
    "b.set_title('prior')\n",
    "b.set_xticks(bins)\n",
    "b.set_xticklabels(xlabels)\n",
    "b.set_xlabel('order no')\n",
    "\n",
    "plt.show()"
   ]
  },
  {
   "cell_type": "code",
   "execution_count": 10,
   "metadata": {},
   "outputs": [
    {
     "name": "stdout",
     "output_type": "stream",
     "text": [
      "<class 'pandas.core.frame.DataFrame'>\n",
      "RangeIndex: 32434489 entries, 0 to 32434488\n",
      "Data columns (total 4 columns):\n",
      "order_id             int64\n",
      "product_id           int64\n",
      "add_to_cart_order    int64\n",
      "reordered            int64\n",
      "dtypes: int64(4)\n",
      "memory usage: 989.8 MB\n"
     ]
    }
   ],
   "source": [
    "#check order information\n",
    "df_pr = pd.read_csv('C:/DS/Springboard/1st_capstone_project/order_products__prior/order_products__prior.csv')\n",
    "df_pr.info()"
   ]
  },
  {
   "cell_type": "code",
   "execution_count": 11,
   "metadata": {},
   "outputs": [
    {
     "name": "stdout",
     "output_type": "stream",
     "text": [
      "<class 'pandas.core.frame.DataFrame'>\n",
      "RangeIndex: 1384617 entries, 0 to 1384616\n",
      "Data columns (total 4 columns):\n",
      "order_id             1384617 non-null int64\n",
      "product_id           1384617 non-null int64\n",
      "add_to_cart_order    1384617 non-null int64\n",
      "reordered            1384617 non-null int64\n",
      "dtypes: int64(4)\n",
      "memory usage: 42.3 MB\n"
     ]
    }
   ],
   "source": [
    "df_tr = pd.read_csv('C:/DS/Springboard/1st_capstone_project/order_products__train/order_products__train.csv')\n",
    "df_tr.info()"
   ]
  },
  {
   "cell_type": "code",
   "execution_count": 30,
   "metadata": {},
   "outputs": [
    {
     "name": "stdout",
     "output_type": "stream",
     "text": [
      "<class 'pandas.core.frame.DataFrame'>\n",
      "RangeIndex: 49688 entries, 0 to 49687\n",
      "Data columns (total 4 columns):\n",
      "product_id       49688 non-null int64\n",
      "product_name     49688 non-null object\n",
      "aisle_id         49688 non-null int64\n",
      "department_id    49688 non-null int64\n",
      "dtypes: int64(3), object(1)\n",
      "memory usage: 1.5+ MB\n"
     ]
    }
   ],
   "source": [
    "#read in product information\n",
    "products = pd.read_csv('C:/DS/Springboard/1st_capstone_project/products/products.csv')\n",
    "products.info()"
   ]
  },
  {
   "cell_type": "code",
   "execution_count": 38,
   "metadata": {},
   "outputs": [
    {
     "name": "stderr",
     "output_type": "stream",
     "text": [
      "C:\\Users\\cfuth\\Anaconda3\\lib\\site-packages\\ipykernel_launcher.py:5: SettingWithCopyWarning: \n",
      "A value is trying to be set on a copy of a slice from a DataFrame.\n",
      "Try using .loc[row_indexer,col_indexer] = value instead\n",
      "\n",
      "See the caveats in the documentation: http://pandas.pydata.org/pandas-docs/stable/indexing.html#indexing-view-versus-copy\n",
      "  \"\"\"\n",
      "C:\\Users\\cfuth\\Anaconda3\\lib\\site-packages\\ipykernel_launcher.py:10: SettingWithCopyWarning: \n",
      "A value is trying to be set on a copy of a slice from a DataFrame.\n",
      "Try using .loc[row_indexer,col_indexer] = value instead\n",
      "\n",
      "See the caveats in the documentation: http://pandas.pydata.org/pandas-docs/stable/indexing.html#indexing-view-versus-copy\n",
      "  # Remove the CWD from sys.path while we load stuff.\n"
     ]
    },
    {
     "data": {
      "image/png": "[encoded data removed]",
      "text/plain": [
       "<matplotlib.figure.Figure at 0x1fec65f6588>"
      ]
     },
     "metadata": {},
     "output_type": "display_data"
    }
   ],
   "source": [
    "#check what products are ordered the most \n",
    "product_count_pr = df_pr.groupby('product_id')['order_id'].count().reset_index(name=\"count\").sort_values('count',ascending=False)\n",
    "product_count_pr10 = product_count_pr.iloc[0:10,:]\n",
    "product_pr10 = [products[products['product_id']==prod]['product_name'].iloc[0] for prod in product_count_pr10['product_id']]\n",
    "product_count_pr10['product_name'] = product_pr10\n",
    "\n",
    "product_count_tr = df_tr.groupby('product_id')['order_id'].count().reset_index(name=\"count\").sort_values('count',ascending=False)\n",
    "product_count_tr10 = product_count_tr.iloc[0:10,:]\n",
    "product_tr10 = [products[products['product_id']==prod]['product_name'].iloc[0] for prod in product_count_tr10['product_id']]\n",
    "product_count_tr10['product_name'] = product_tr10\n",
    "\n",
    "fig = plt.figure(figsize=(10,4))\n",
    "a = fig.add_subplot(121)\n",
    "\n",
    "plt.bar(product_count_pr10['product_name'],product_count_pr10['count'],facecolor='g',alpha=0.5)\n",
    "a.set_title('prior')\n",
    "a.set_xlabel('totoal orders')\n",
    "labels = product_count_pr10['product_name']\n",
    "a.set_xticklabels(labels, rotation=90)\n",
    "a.set_ylabel('Count')\n",
    "\n",
    "b = fig.add_subplot(122)\n",
    "plt.bar(product_count_tr10['product_name'],product_count_tr10['count'],facecolor='r',alpha=0.5)\n",
    "b.set_title('train')\n",
    "labels = product_count_tr10['product_name']\n",
    "b.set_xticklabels(labels,rotation=90)\n",
    "b.set_xlabel('totoal orders')\n",
    "\n",
    "plt.show()"
   ]
  },
  {
   "cell_type": "code",
   "execution_count": 41,
   "metadata": {},
   "outputs": [
    {
     "name": "stderr",
     "output_type": "stream",
     "text": [
      "C:\\Users\\cfuth\\Anaconda3\\lib\\site-packages\\ipykernel_launcher.py:5: SettingWithCopyWarning: \n",
      "A value is trying to be set on a copy of a slice from a DataFrame.\n",
      "Try using .loc[row_indexer,col_indexer] = value instead\n",
      "\n",
      "See the caveats in the documentation: http://pandas.pydata.org/pandas-docs/stable/indexing.html#indexing-view-versus-copy\n",
      "  \"\"\"\n",
      "C:\\Users\\cfuth\\Anaconda3\\lib\\site-packages\\ipykernel_launcher.py:10: SettingWithCopyWarning: \n",
      "A value is trying to be set on a copy of a slice from a DataFrame.\n",
      "Try using .loc[row_indexer,col_indexer] = value instead\n",
      "\n",
      "See the caveats in the documentation: http://pandas.pydata.org/pandas-docs/stable/indexing.html#indexing-view-versus-copy\n",
      "  # Remove the CWD from sys.path while we load stuff.\n"
     ]
    },
    {
     "data": {
      "image/png": "[encoded data removed]",
      "text/plain": [
       "<matplotlib.figure.Figure at 0x1fec672aa20>"
      ]
     },
     "metadata": {},
     "output_type": "display_data"
    }
   ],
   "source": [
    "#get most reordered items\n",
    "product_reo_pr = df_pr.groupby('product_id')['reordered'].sum().reset_index(name='reorder_total').sort_values('reorder_total',ascending=False)\n",
    "product_reo_pr10 = product_reo_pr.iloc[0:10,:]\n",
    "reo_pr10 = [products[products['product_id']==prod]['product_name'].iloc[0] for prod in product_count_pr10['product_id']]\n",
    "product_reo_pr10['product_name'] = reo_pr10\n",
    "\n",
    "product_reo_tr = df_tr.groupby('product_id')['reordered'].sum().reset_index(name='reorder_total').sort_values('reorder_total',ascending=False)\n",
    "product_reo_tr10 = product_reo_tr.iloc[0:10,:]\n",
    "reo_tr10 = [products[products['product_id']==prod]['product_name'].iloc[0] for prod in product_count_tr10['product_id']]\n",
    "product_reo_tr10['product_name'] = reo_tr10\n",
    "\n",
    "fig = plt.figure(figsize=(10,4))\n",
    "a = fig.add_subplot(121)\n",
    "\n",
    "plt.bar(product_reo_pr10['product_name'],product_reo_pr10['reorder_total'],facecolor='g',alpha=0.5)\n",
    "a.set_title('prior')\n",
    "a.set_xlabel('reorder total')\n",
    "labels = product_reo_pr10['product_name']\n",
    "a.set_xticklabels(labels, rotation=90)\n",
    "a.set_ylabel('Count')\n",
    "\n",
    "b = fig.add_subplot(122)\n",
    "plt.bar(product_reo_tr10['product_name'],product_reo_tr10['reorder_total'],facecolor='r',alpha=0.5)\n",
    "b.set_title('train')\n",
    "labels = product_reo_tr10['product_name']\n",
    "b.set_xticklabels(labels,rotation=90)\n",
    "b.set_xlabel('reorder total')\n",
    "\n",
    "plt.show()\n"
   ]
  },
  {
   "cell_type": "code",
   "execution_count": null,
   "metadata": {},
   "outputs": [],
   "source": []
  },
  {
   "cell_type": "code",
   "execution_count": null,
   "metadata": {},
   "outputs": [],
   "source": []
  }
 ],
 "metadata": {
  "kernelspec": {
   "display_name": "Python 3",
   "language": "python",
   "name": "python3"
  },
  "language_info": {
   "codemirror_mode": {
    "name": "ipython",
    "version": 3
   },
   "file_extension": ".py",
   "mimetype": "text/x-python",
   "name": "python",
   "nbconvert_exporter": "python",
   "pygments_lexer": "ipython3",
   "version": "3.6.4"
  }
 },
 "nbformat": 4,
 "nbformat_minor": 2
}
