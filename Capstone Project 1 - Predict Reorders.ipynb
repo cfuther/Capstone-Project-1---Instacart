{
 "cells": [
  {
   "cell_type": "code",
   "execution_count": 1,
   "metadata": {},
   "outputs": [],
   "source": [
    "import numpy as np\n",
    "import pandas as pd\n",
    "import matplotlib.pyplot as plt"
   ]
  },
  {
   "cell_type": "code",
   "execution_count": 2,
   "metadata": {},
   "outputs": [],
   "source": [
    "#read in product information\n",
    "products = pd.read_csv('C:/DS/Springboard/1st_capstone_project/products/products.csv')\n"
   ]
  },
  {
   "cell_type": "code",
   "execution_count": 3,
   "metadata": {},
   "outputs": [],
   "source": [
    "#check order information\n",
    "df_pr = pd.read_csv('C:/DS/Springboard/1st_capstone_project/order_products__prior/order_products__prior.csv')\n",
    "df_tr = pd.read_csv('C:/DS/Springboard/1st_capstone_project/order_products__train/order_products__train.csv')"
   ]
  },
  {
   "cell_type": "markdown",
   "metadata": {},
   "source": [
    "# Part 1: Data Wrangling "
   ]
  },
  {
   "cell_type": "code",
   "execution_count": 76,
   "metadata": {},
   "outputs": [],
   "source": [
    "ord_df = pd.read_csv('C:/DS/Springboard/1st_capstone_project/orders.csv')"
   ]
  },
  {
   "cell_type": "code",
   "execution_count": 5,
   "metadata": {},
   "outputs": [
    {
     "name": "stdout",
     "output_type": "stream",
     "text": [
      "<class 'pandas.core.frame.DataFrame'>\n",
      "RangeIndex: 3421083 entries, 0 to 3421082\n",
      "Data columns (total 7 columns):\n",
      "order_id                  int64\n",
      "user_id                   int64\n",
      "eval_set                  object\n",
      "order_number              int64\n",
      "order_dow                 int64\n",
      "order_hour_of_day         int64\n",
      "days_since_prior_order    float64\n",
      "dtypes: float64(1), int64(5), object(1)\n",
      "memory usage: 182.7+ MB\n"
     ]
    }
   ],
   "source": [
    "ord_df.info()"
   ]
  },
  {
   "cell_type": "code",
   "execution_count": 120,
   "metadata": {},
   "outputs": [
    {
     "name": "stdout",
     "output_type": "stream",
     "text": [
      "<class 'pandas.core.frame.DataFrame'>\n",
      "Int64Index: 75000 entries, 38 to 3421068\n",
      "Data columns (total 7 columns):\n",
      "order_id                  75000 non-null int64\n",
      "user_id                   75000 non-null int64\n",
      "eval_set                  75000 non-null object\n",
      "order_number              75000 non-null int64\n",
      "order_dow                 75000 non-null int64\n",
      "order_hour_of_day         75000 non-null int64\n",
      "days_since_prior_order    75000 non-null float64\n",
      "dtypes: float64(1), int64(5), object(1)\n",
      "memory usage: 4.6+ MB\n"
     ]
    }
   ],
   "source": [
    "test_df = ord_df[ord_df['eval_set']=='test']\n",
    "test_df.info()"
   ]
  },
  {
   "cell_type": "code",
   "execution_count": 6,
   "metadata": {},
   "outputs": [
    {
     "name": "stdout",
     "output_type": "stream",
     "text": [
      "3214874\n",
      "131209\n",
      "75000\n"
     ]
    }
   ],
   "source": [
    "print(len(ord_df[ord_df['eval_set']=='prior']))\n",
    "print(len(ord_df[ord_df['eval_set']=='train']))\n",
    "print(len(ord_df[ord_df['eval_set']=='test']))"
   ]
  },
  {
   "cell_type": "code",
   "execution_count": 7,
   "metadata": {},
   "outputs": [
    {
     "name": "stdout",
     "output_type": "stream",
     "text": [
      "<class 'pandas.core.frame.DataFrame'>\n",
      "RangeIndex: 32434489 entries, 0 to 32434488\n",
      "Data columns (total 4 columns):\n",
      "order_id             int64\n",
      "product_id           int64\n",
      "add_to_cart_order    int64\n",
      "reordered            int64\n",
      "dtypes: int64(4)\n",
      "memory usage: 989.8 MB\n"
     ]
    }
   ],
   "source": [
    "df_pr.info()"
   ]
  },
  {
   "cell_type": "code",
   "execution_count": 8,
   "metadata": {},
   "outputs": [
    {
     "name": "stdout",
     "output_type": "stream",
     "text": [
      "<class 'pandas.core.frame.DataFrame'>\n",
      "RangeIndex: 49688 entries, 0 to 49687\n",
      "Data columns (total 4 columns):\n",
      "product_id       49688 non-null int64\n",
      "product_name     49688 non-null object\n",
      "aisle_id         49688 non-null int64\n",
      "department_id    49688 non-null int64\n",
      "dtypes: int64(3), object(1)\n",
      "memory usage: 1.5+ MB\n"
     ]
    }
   ],
   "source": [
    "products.info()"
   ]
  },
  {
   "cell_type": "code",
   "execution_count": 9,
   "metadata": {},
   "outputs": [
    {
     "name": "stdout",
     "output_type": "stream",
     "text": [
      "order_id             0\n",
      "product_id           0\n",
      "add_to_cart_order    0\n",
      "reordered            0\n",
      "dtype: int64\n",
      "order_id             0\n",
      "product_id           0\n",
      "add_to_cart_order    0\n",
      "reordered            0\n",
      "dtype: int64\n",
      "order_id                       0\n",
      "user_id                        0\n",
      "eval_set                       0\n",
      "order_number                   0\n",
      "order_dow                      0\n",
      "order_hour_of_day              0\n",
      "days_since_prior_order    206209\n",
      "dtype: int64\n"
     ]
    }
   ],
   "source": [
    "#check for missing value\n",
    "print(df_pr.isna().sum())\n",
    "print(df_tr.isna().sum())\n",
    "print(ord_df.isna().sum())"
   ]
  },
  {
   "cell_type": "code",
   "execution_count": 10,
   "metadata": {},
   "outputs": [
    {
     "data": {
      "text/html": [
       "<div>\n",
       "<style scoped>\n",
       "    .dataframe tbody tr th:only-of-type {\n",
       "        vertical-align: middle;\n",
       "    }\n",
       "\n",
       "    .dataframe tbody tr th {\n",
       "        vertical-align: top;\n",
       "    }\n",
       "\n",
       "    .dataframe thead th {\n",
       "        text-align: right;\n",
       "    }\n",
       "</style>\n",
       "<table border=\"1\" class=\"dataframe\">\n",
       "  <thead>\n",
       "    <tr style=\"text-align: right;\">\n",
       "      <th></th>\n",
       "      <th>order_id</th>\n",
       "      <th>user_id</th>\n",
       "      <th>eval_set</th>\n",
       "      <th>order_number</th>\n",
       "      <th>order_dow</th>\n",
       "      <th>order_hour_of_day</th>\n",
       "      <th>days_since_prior_order</th>\n",
       "    </tr>\n",
       "  </thead>\n",
       "  <tbody>\n",
       "    <tr>\n",
       "      <th>0</th>\n",
       "      <td>2539329</td>\n",
       "      <td>1</td>\n",
       "      <td>prior</td>\n",
       "      <td>1</td>\n",
       "      <td>2</td>\n",
       "      <td>8</td>\n",
       "      <td>NaN</td>\n",
       "    </tr>\n",
       "    <tr>\n",
       "      <th>1</th>\n",
       "      <td>2398795</td>\n",
       "      <td>1</td>\n",
       "      <td>prior</td>\n",
       "      <td>2</td>\n",
       "      <td>3</td>\n",
       "      <td>7</td>\n",
       "      <td>15.0</td>\n",
       "    </tr>\n",
       "    <tr>\n",
       "      <th>2</th>\n",
       "      <td>473747</td>\n",
       "      <td>1</td>\n",
       "      <td>prior</td>\n",
       "      <td>3</td>\n",
       "      <td>3</td>\n",
       "      <td>12</td>\n",
       "      <td>21.0</td>\n",
       "    </tr>\n",
       "    <tr>\n",
       "      <th>3</th>\n",
       "      <td>2254736</td>\n",
       "      <td>1</td>\n",
       "      <td>prior</td>\n",
       "      <td>4</td>\n",
       "      <td>4</td>\n",
       "      <td>7</td>\n",
       "      <td>29.0</td>\n",
       "    </tr>\n",
       "    <tr>\n",
       "      <th>4</th>\n",
       "      <td>431534</td>\n",
       "      <td>1</td>\n",
       "      <td>prior</td>\n",
       "      <td>5</td>\n",
       "      <td>4</td>\n",
       "      <td>15</td>\n",
       "      <td>28.0</td>\n",
       "    </tr>\n",
       "    <tr>\n",
       "      <th>5</th>\n",
       "      <td>3367565</td>\n",
       "      <td>1</td>\n",
       "      <td>prior</td>\n",
       "      <td>6</td>\n",
       "      <td>2</td>\n",
       "      <td>7</td>\n",
       "      <td>19.0</td>\n",
       "    </tr>\n",
       "    <tr>\n",
       "      <th>6</th>\n",
       "      <td>550135</td>\n",
       "      <td>1</td>\n",
       "      <td>prior</td>\n",
       "      <td>7</td>\n",
       "      <td>1</td>\n",
       "      <td>9</td>\n",
       "      <td>20.0</td>\n",
       "    </tr>\n",
       "    <tr>\n",
       "      <th>7</th>\n",
       "      <td>3108588</td>\n",
       "      <td>1</td>\n",
       "      <td>prior</td>\n",
       "      <td>8</td>\n",
       "      <td>1</td>\n",
       "      <td>14</td>\n",
       "      <td>14.0</td>\n",
       "    </tr>\n",
       "    <tr>\n",
       "      <th>8</th>\n",
       "      <td>2295261</td>\n",
       "      <td>1</td>\n",
       "      <td>prior</td>\n",
       "      <td>9</td>\n",
       "      <td>1</td>\n",
       "      <td>16</td>\n",
       "      <td>0.0</td>\n",
       "    </tr>\n",
       "    <tr>\n",
       "      <th>9</th>\n",
       "      <td>2550362</td>\n",
       "      <td>1</td>\n",
       "      <td>prior</td>\n",
       "      <td>10</td>\n",
       "      <td>4</td>\n",
       "      <td>8</td>\n",
       "      <td>30.0</td>\n",
       "    </tr>\n",
       "    <tr>\n",
       "      <th>10</th>\n",
       "      <td>1187899</td>\n",
       "      <td>1</td>\n",
       "      <td>train</td>\n",
       "      <td>11</td>\n",
       "      <td>4</td>\n",
       "      <td>8</td>\n",
       "      <td>14.0</td>\n",
       "    </tr>\n",
       "  </tbody>\n",
       "</table>\n",
       "</div>"
      ],
      "text/plain": [
       "    order_id  user_id eval_set  order_number  order_dow  order_hour_of_day  \\\n",
       "0    2539329        1    prior             1          2                  8   \n",
       "1    2398795        1    prior             2          3                  7   \n",
       "2     473747        1    prior             3          3                 12   \n",
       "3    2254736        1    prior             4          4                  7   \n",
       "4     431534        1    prior             5          4                 15   \n",
       "5    3367565        1    prior             6          2                  7   \n",
       "6     550135        1    prior             7          1                  9   \n",
       "7    3108588        1    prior             8          1                 14   \n",
       "8    2295261        1    prior             9          1                 16   \n",
       "9    2550362        1    prior            10          4                  8   \n",
       "10   1187899        1    train            11          4                  8   \n",
       "\n",
       "    days_since_prior_order  \n",
       "0                      NaN  \n",
       "1                     15.0  \n",
       "2                     21.0  \n",
       "3                     29.0  \n",
       "4                     28.0  \n",
       "5                     19.0  \n",
       "6                     20.0  \n",
       "7                     14.0  \n",
       "8                      0.0  \n",
       "9                     30.0  \n",
       "10                    14.0  "
      ]
     },
     "execution_count": 10,
     "metadata": {},
     "output_type": "execute_result"
    }
   ],
   "source": [
    "# check relationship between prior and train dataset\n",
    "ord_df[ord_df['user_id']==1]"
   ]
  },
  {
   "cell_type": "code",
   "execution_count": 11,
   "metadata": {},
   "outputs": [
    {
     "data": {
      "text/plain": [
       "206209"
      ]
     },
     "execution_count": 11,
     "metadata": {},
     "output_type": "execute_result"
    }
   ],
   "source": [
    "#check nan\n",
    "ord_df[\"days_since_prior_order\"].astype(float).isna().sum()"
   ]
  },
  {
   "cell_type": "code",
   "execution_count": 12,
   "metadata": {},
   "outputs": [
    {
     "data": {
      "text/plain": [
       "[3421083, 206209, 3, 100, 7, 24, 31]"
      ]
     },
     "execution_count": 12,
     "metadata": {},
     "output_type": "execute_result"
    }
   ],
   "source": [
    "#check unique values in each column\n",
    "uni_count = [ord_df[column].nunique() for column in ord_df]\n",
    "uni_count"
   ]
  },
  {
   "cell_type": "code",
   "execution_count": 13,
   "metadata": {},
   "outputs": [
    {
     "data": {
      "text/plain": [
       "eval_set\n",
       "prior    206209\n",
       "test      75000\n",
       "train    131209\n",
       "Name: user_id, dtype: int64"
      ]
     },
     "execution_count": 13,
     "metadata": {},
     "output_type": "execute_result"
    }
   ],
   "source": [
    "#check difference between prior, test and train\n",
    "#user id count\n",
    "ord_df.groupby('eval_set')['user_id'].nunique()"
   ]
  },
  {
   "cell_type": "code",
   "execution_count": 14,
   "metadata": {},
   "outputs": [
    {
     "name": "stderr",
     "output_type": "stream",
     "text": [
      "C:\\Users\\cfuth\\Anaconda3\\lib\\site-packages\\numpy\\core\\fromnumeric.py:52: FutureWarning: reshape is deprecated and will raise in a subsequent release. Please use .values.reshape(...) instead\n",
      "  return getattr(obj, method)(*args, **kwds)\n"
     ]
    },
    {
     "data": {
      "image/png": "[encoded data removed]",
      "text/plain": [
       "<matplotlib.figure.Figure at 0x1e25514f080>"
      ]
     },
     "metadata": {},
     "output_type": "display_data"
    }
   ],
   "source": [
    "#box plot to show whether there are outliners\n",
    "fig = plt.figure(figsize=(8,8))\n",
    "a = fig.add_subplot(221)\n",
    "plt.boxplot([ord_df[ord_df['eval_set']=='prior']['order_number'],ord_df[ord_df['eval_set']=='train']['order_number']])\n",
    "a.set_xticks([1,2])\n",
    "a.set_xticklabels(['prior','train'])\n",
    "a.set_title('order numbers')\n",
    "\n",
    "b = fig.add_subplot(222)\n",
    "plt.boxplot([ord_df[ord_df['eval_set']=='prior']['order_dow'],ord_df[ord_df['eval_set']=='train']['order_dow']])\n",
    "b.set_xticks([1,2])\n",
    "b.set_xticklabels(['prior','train'])\n",
    "b.set_title('day of week')\n",
    "\n",
    "c = fig.add_subplot(223)\n",
    "plt.boxplot([ord_df[ord_df['eval_set']=='prior']['order_hour_of_day'],ord_df[ord_df['eval_set']=='train']['order_hour_of_day']])\n",
    "c.set_xticks([1,2])\n",
    "c.set_xticklabels(['prior','train'])\n",
    "c.set_title('hour of day')\n",
    "\n",
    "d = fig.add_subplot(224)\n",
    "plt.boxplot([ord_df[ord_df['eval_set']=='prior']['days_since_prior_order'].dropna(),ord_df[ord_df['eval_set']=='train']['days_since_prior_order']])\n",
    "d.set_xticks([1,2])\n",
    "d.set_xticklabels(['prior','train'])\n",
    "d.set_title('days_since_prior_order')\n",
    "plt.show()"
   ]
  },
  {
   "cell_type": "markdown",
   "metadata": {},
   "source": [
    "# Findings: \n",
    "1. order.csv includes information on orders such as order id in database, order number for this user, user id, which set it belongs to (prior, test or training) and when it happens(day of week, order time of day, days since prior order)\n",
    "2. orders_products datasets store information on each order, including order id, product id, add to cart order and whether it is a reorder\n",
    "3. The only missing value in the datset is \"days since prior order\" for some orders in prior set since they are first time orders.\n",
    "4. There are no outliers found.\n",
    "5. Users in prior set are divided to training and test sets.\n",
    "6. For users in the training set, one order is hold out in the training set and the rest orders are in prior."
   ]
  },
  {
   "cell_type": "markdown",
   "metadata": {},
   "source": [
    "# Part 2: Exploratory Data Analysis"
   ]
  },
  {
   "cell_type": "code",
   "execution_count": 15,
   "metadata": {},
   "outputs": [],
   "source": [
    "import seaborn as sns\n",
    "color = sns.color_palette()\n"
   ]
  },
  {
   "cell_type": "code",
   "execution_count": 16,
   "metadata": {},
   "outputs": [
    {
     "data": {
      "image/png": "[encoded data removed]",
      "text/plain": [
       "<matplotlib.figure.Figure at 0x1e202b9c5c0>"
      ]
     },
     "metadata": {},
     "output_type": "display_data"
    }
   ],
   "source": [
    "#when users usually order\n",
    "sns.countplot(x='order_dow',data=ord_df,color=color[0])\n",
    "plt.xlabel('order day of week')\n",
    "plt.ylabel('order count')\n",
    "plt.show()"
   ]
  },
  {
   "cell_type": "markdown",
   "metadata": {},
   "source": [
    "<div class=\"alert alert-success\">\n",
    "- Day 0 and 1 have higher orders, they should be Saturday and Sunday. Wednesday has the lowest order counts.\n",
    "</div>"
   ]
  },
  {
   "cell_type": "code",
   "execution_count": 17,
   "metadata": {},
   "outputs": [
    {
     "data": {
      "image/png": "[encoded data removed]",
      "text/plain": [
       "<matplotlib.figure.Figure at 0x1e202bb6a90>"
      ]
     },
     "metadata": {},
     "output_type": "display_data"
    }
   ],
   "source": [
    "# what time customers order\n",
    "sns.countplot(x=\"order_hour_of_day\", data=ord_df,color=color[0])\n",
    "plt.xlabel('order hour of day')\n",
    "plt.ylabel('order count')\n",
    "plt.xticks(rotation='vertical')\n",
    "plt.show()"
   ]
  },
  {
   "cell_type": "markdown",
   "metadata": {},
   "source": [
    "<div class=\"alert alert-success\">\n",
    "Most orders happen during daytime about 9 am - 4 pm\n",
    "</div>"
   ]
  },
  {
   "cell_type": "code",
   "execution_count": 18,
   "metadata": {},
   "outputs": [
    {
     "data": {
      "image/png": "[encoded data removed]",
      "text/plain": [
       "<matplotlib.figure.Figure at 0x1e202e2e3c8>"
      ]
     },
     "metadata": {},
     "output_type": "display_data"
    }
   ],
   "source": [
    "# frequency of customers ordering\n",
    "sns.countplot(x=\"days_since_prior_order\", data=ord_df,color=color[0])\n",
    "\n",
    "plt.xlabel('days since prior order')\n",
    "plt.ylabel('order count')\n",
    "plt.xticks(rotation='vertical')\n",
    "plt.show()"
   ]
  },
  {
   "cell_type": "markdown",
   "metadata": {},
   "source": [
    "<div class=\"alert alert-success\">\n",
    "Customers most likely order again after 30 days since prior order, followed by 7 days. \n",
    "</div>"
   ]
  },
  {
   "cell_type": "code",
   "execution_count": 19,
   "metadata": {},
   "outputs": [
    {
     "name": "stdout",
     "output_type": "stream",
     "text": [
      "percentage of reorder in prior set is: 0.5896974667922161\n",
      "percentage of reorder in test set is: 0.5985944127509629\n"
     ]
    }
   ],
   "source": [
    "# proportion of orders that are reorders\n",
    "pr_reord = df_pr['reordered'].sum()/len(df_pr)\n",
    "tr_reord = df_tr['reordered'].sum()/len(df_tr)\n",
    "print(\"percentage of reorder in prior set is:\",pr_reord)\n",
    "print(\"percentage of reorder in test set is:\",tr_reord)"
   ]
  },
  {
   "cell_type": "markdown",
   "metadata": {},
   "source": [
    "<div class=\"alert alert-success\">\n",
    "About 59% of the orders are reorder\n",
    "</div>"
   ]
  },
  {
   "cell_type": "code",
   "execution_count": 20,
   "metadata": {},
   "outputs": [
    {
     "data": {
      "image/png": "[encoded data removed]",
      "text/plain": [
       "<matplotlib.figure.Figure at 0x1e202f0de10>"
      ]
     },
     "metadata": {},
     "output_type": "display_data"
    }
   ],
   "source": [
    "# how many orders customer make\n",
    "pr_no = ord_df.groupby('user_id')['order_number'].max().reset_index(name='orders_total')\n",
    "plt.figure(figsize=(12,8))\n",
    "sns.countplot(x=\"orders_total\", data=pr_no,color=color[0])\n",
    "plt.xlabel('order number')\n",
    "plt.ylabel('order count')\n",
    "plt.xticks(rotation='vertical')\n",
    "plt.show()"
   ]
  },
  {
   "cell_type": "markdown",
   "metadata": {},
   "source": [
    "<div class=\"alert alert-success\">\n",
    "Customers make at least 4 orders and at most 100 orders. \n",
    "</div>"
   ]
  },
  {
   "cell_type": "code",
   "execution_count": 21,
   "metadata": {},
   "outputs": [
    {
     "name": "stdout",
     "output_type": "stream",
     "text": [
      "749836\n"
     ]
    },
    {
     "data": {
      "text/html": [
       "<div>\n",
       "<style scoped>\n",
       "    .dataframe tbody tr th:only-of-type {\n",
       "        vertical-align: middle;\n",
       "    }\n",
       "\n",
       "    .dataframe tbody tr th {\n",
       "        vertical-align: top;\n",
       "    }\n",
       "\n",
       "    .dataframe thead th {\n",
       "        text-align: right;\n",
       "    }\n",
       "</style>\n",
       "<table border=\"1\" class=\"dataframe\">\n",
       "  <thead>\n",
       "    <tr style=\"text-align: right;\">\n",
       "      <th></th>\n",
       "      <th>order_id</th>\n",
       "      <th>user_id</th>\n",
       "      <th>eval_set</th>\n",
       "      <th>order_number</th>\n",
       "      <th>order_dow</th>\n",
       "      <th>order_hour_of_day</th>\n",
       "      <th>days_since_prior_order</th>\n",
       "    </tr>\n",
       "  </thead>\n",
       "  <tbody>\n",
       "    <tr>\n",
       "      <th>0</th>\n",
       "      <td>3108588</td>\n",
       "      <td>1</td>\n",
       "      <td>prior</td>\n",
       "      <td>8</td>\n",
       "      <td>1</td>\n",
       "      <td>14</td>\n",
       "      <td>14.0</td>\n",
       "    </tr>\n",
       "    <tr>\n",
       "      <th>1</th>\n",
       "      <td>2295261</td>\n",
       "      <td>1</td>\n",
       "      <td>prior</td>\n",
       "      <td>9</td>\n",
       "      <td>1</td>\n",
       "      <td>16</td>\n",
       "      <td>0.0</td>\n",
       "    </tr>\n",
       "    <tr>\n",
       "      <th>2</th>\n",
       "      <td>2550362</td>\n",
       "      <td>1</td>\n",
       "      <td>prior</td>\n",
       "      <td>10</td>\n",
       "      <td>4</td>\n",
       "      <td>8</td>\n",
       "      <td>30.0</td>\n",
       "    </tr>\n",
       "    <tr>\n",
       "      <th>3</th>\n",
       "      <td>1187899</td>\n",
       "      <td>1</td>\n",
       "      <td>train</td>\n",
       "      <td>11</td>\n",
       "      <td>4</td>\n",
       "      <td>8</td>\n",
       "      <td>14.0</td>\n",
       "    </tr>\n",
       "    <tr>\n",
       "      <th>4</th>\n",
       "      <td>3186735</td>\n",
       "      <td>2</td>\n",
       "      <td>prior</td>\n",
       "      <td>12</td>\n",
       "      <td>1</td>\n",
       "      <td>9</td>\n",
       "      <td>28.0</td>\n",
       "    </tr>\n",
       "  </tbody>\n",
       "</table>\n",
       "</div>"
      ],
      "text/plain": [
       "   order_id  user_id eval_set  order_number  order_dow  order_hour_of_day  \\\n",
       "0   3108588        1    prior             8          1                 14   \n",
       "1   2295261        1    prior             9          1                 16   \n",
       "2   2550362        1    prior            10          4                  8   \n",
       "3   1187899        1    train            11          4                  8   \n",
       "4   3186735        2    prior            12          1                  9   \n",
       "\n",
       "   days_since_prior_order  \n",
       "0                    14.0  \n",
       "1                     0.0  \n",
       "2                    30.0  \n",
       "3                    14.0  \n",
       "4                    28.0  "
      ]
     },
     "execution_count": 21,
     "metadata": {},
     "output_type": "execute_result"
    }
   ],
   "source": [
    "# extract order df using test data and most recent 3 orders in prior dataset \n",
    "# each user ends up with 4 orders to train the model\n",
    "ord_df = ord_df[ord_df['eval_set']!='test'].merge(pr_no,on='user_id',how='left')\n",
    "ord_df = ord_df[ord_df.order_number > (ord_df.orders_total - 4)].reset_index()\n",
    "ord_df.drop(['index','orders_total'],axis=1,inplace=True)\n",
    "print(len(ord_df))\n",
    "ord_df.head()"
   ]
  },
  {
   "cell_type": "code",
   "execution_count": 22,
   "metadata": {},
   "outputs": [],
   "source": [
    "department = pd.read_csv('C:/DS/Springboard/1st_capstone_project/departments/departments.csv')\n",
    "aisle = pd.read_csv('C:/DS/Springboard/1st_capstone_project/aisles/aisles.csv')"
   ]
  },
  {
   "cell_type": "code",
   "execution_count": 23,
   "metadata": {},
   "outputs": [
    {
     "name": "stdout",
     "output_type": "stream",
     "text": [
      "7506157\n",
      "   order_id  product_id  add_to_cart_order  reordered   user_id  eval_set  \\\n",
      "0         7       34050                  1          0  142903.0         1   \n",
      "1         7       46802                  2          0  142903.0         1   \n",
      "2        14       20392                  1          1   18194.0         1   \n",
      "3        14       27845                  2          1   18194.0         1   \n",
      "4        14         162                  3          1   18194.0         1   \n",
      "\n",
      "   order_number  order_dow  order_hour_of_day  days_since_prior_order  \\\n",
      "0          11.0        2.0               14.0                    30.0   \n",
      "1          11.0        2.0               14.0                    30.0   \n",
      "2          49.0        3.0               15.0                     3.0   \n",
      "3          49.0        3.0               15.0                     3.0   \n",
      "4          49.0        3.0               15.0                     3.0   \n",
      "\n",
      "                     product_name  aisle_id  department_id  \n",
      "0                    Orange Juice        31              7  \n",
      "1                Pineapple Chunks       116              1  \n",
      "2   Hair Bender Whole Bean Coffee        26              7  \n",
      "3              Organic Whole Milk        84             16  \n",
      "4  Organic Mini Homestyle Waffles        52              1  \n",
      "<class 'pandas.core.frame.DataFrame'>\n",
      "Int64Index: 7506157 entries, 0 to 7506156\n",
      "Data columns (total 13 columns):\n",
      "order_id                  int64\n",
      "product_id                int64\n",
      "add_to_cart_order         int64\n",
      "reordered                 int64\n",
      "user_id                   float64\n",
      "eval_set                  int64\n",
      "order_number              float64\n",
      "order_dow                 float64\n",
      "order_hour_of_day         float64\n",
      "days_since_prior_order    float64\n",
      "product_name              object\n",
      "aisle_id                  int64\n",
      "department_id             int64\n",
      "dtypes: float64(5), int64(7), object(1)\n",
      "memory usage: 1.3 GB\n",
      "None\n"
     ]
    }
   ],
   "source": [
    "#product-order dataframe with department and aisle info\n",
    "pr_ord = pd.concat([pd.merge(df_pr,ord_df,on='order_id',how='left'),pd.merge(df_tr,ord_df,on='order_id',how='left')])\n",
    "pr_ord.dropna(inplace=True)\n",
    "print(len(pr_ord))\n",
    "pr_ord = pr_ord.merge(products,on='product_id',how='left')\n",
    "pr_ord.replace({'prior':1,'train':2},inplace=True) #convert object column to integer to save space\n",
    "print(pr_ord.head())\n",
    "print(pr_ord.info(memory_usage='deep'))"
   ]
  },
  {
   "cell_type": "code",
   "execution_count": 24,
   "metadata": {},
   "outputs": [
    {
     "name": "stdout",
     "output_type": "stream",
     "text": [
      "                    index   count\n",
      "0                  Banana  102968\n",
      "1  Bag of Organic Bananas   84085\n",
      "2    Organic Strawberries   54313\n",
      "3    Organic Baby Spinach   53756\n",
      "4             Large Lemon   41951\n"
     ]
    },
    {
     "data": {
      "image/png": "[encoded data removed]",
      "text/plain": [
       "<matplotlib.figure.Figure at 0x1e202e9fe80>"
      ]
     },
     "metadata": {},
     "output_type": "display_data"
    }
   ],
   "source": [
    "#check what products are ordered the most \n",
    "product_count_pr = pr_ord['product_name'].value_counts().reset_index(name=\"count\")\n",
    "print(product_count_pr.head())\n",
    "\n",
    "fig = plt.figure(figsize=(10,6))\n",
    "\n",
    "sns.barplot(x='index',y='count',data=product_count_pr.iloc[0:20,:],color='g',alpha=0.5)\n",
    "plt.xlabel('product name')\n",
    "plt.xticks(rotation='vertical')\n",
    "plt.ylabel('order counts')\n",
    "\n",
    "plt.show()"
   ]
  },
  {
   "cell_type": "markdown",
   "metadata": {},
   "source": [
    "<div class=\"alert alert-success\">\n",
    "Most ordered products are fresh fruits and vegetables. \n",
    "</div>"
   ]
  },
  {
   "cell_type": "code",
   "execution_count": 25,
   "metadata": {},
   "outputs": [
    {
     "name": "stdout",
     "output_type": "stream",
     "text": [
      "                                   product_name  reorder_ratio\n",
      "7919             Chips, Kale + Chia, Chili Lime            1.0\n",
      "32099            Original Plain Wafers Crackers            1.0\n",
      "24166                                  Mega Mag            1.0\n",
      "2463   Apple And Pretzel Bites With Caramel Dip            1.0\n",
      "24159                             Medjoul Dates            1.0\n"
     ]
    },
    {
     "data": {
      "image/png": "[encoded data removed]",
      "text/plain": [
       "<matplotlib.figure.Figure at 0x1e202e26710>"
      ]
     },
     "metadata": {},
     "output_type": "display_data"
    }
   ],
   "source": [
    "#products having highest reorder ratio\n",
    "product_pr_reo = pr_ord.groupby('product_name')['reordered'].mean().reset_index(name='reorder_ratio').sort_values('reorder_ratio',ascending=False)\n",
    "print(product_pr_reo.head())\n",
    "\n",
    "fig = plt.figure(figsize=(10,6))\n",
    "\n",
    "sns.barplot(x='product_name',y='reorder_ratio',data=product_pr_reo.iloc[0:20,:],color='g',alpha=0.5)\n",
    "plt.xlabel('product name')\n",
    "plt.xticks(rotation='vertical')\n",
    "plt.ylabel('reorder ratio')\n",
    "plt.show()\n"
   ]
  },
  {
   "cell_type": "markdown",
   "metadata": {},
   "source": [
    "<div class=\"alert alert-success\">\n",
    "Products with high reorder ratio are those items whose buyers are \"loyal\" or have high preference to them. As seen from the plot above, most of the products with highest reorder ratio are kind of snacks, not daily necessaries. \n",
    "</div>"
   ]
  },
  {
   "cell_type": "code",
   "execution_count": 26,
   "metadata": {},
   "outputs": [
    {
     "data": {
      "image/png": "[encoded data removed]",
      "text/plain": [
       "<matplotlib.figure.Figure at 0x1e20325b780>"
      ]
     },
     "metadata": {},
     "output_type": "display_data"
    }
   ],
   "source": [
    "# product order frequency\n",
    "product_freq = pr_ord.groupby(['user_id','product_id']).size().reset_index(name='freq')\n",
    "product_freq_prod = product_freq.groupby('product_id')['freq'].mean().reset_index(name='prod_freq').sort_values('prod_freq',ascending=False)\n",
    "pr_ord = pr_ord.merge(product_freq_prod,on='product_id',how='left').merge(product_freq,on=['user_id','product_id'],how='left')\n",
    "product_freq_prod = product_freq_prod.merge(products,on='product_id',how='left')\n",
    "\n",
    "fig = plt.figure(figsize=(10,6))\n",
    "sns.barplot(x='product_name',y='prod_freq',data=product_freq_prod.iloc[0:20,:],color='g',alpha=0.5)\n",
    "plt.xlabel('product name')\n",
    "plt.xticks(rotation='vertical')\n",
    "plt.ylabel('order frequency')\n",
    "plt.show()"
   ]
  },
  {
   "cell_type": "code",
   "execution_count": 27,
   "metadata": {},
   "outputs": [
    {
     "name": "stdout",
     "output_type": "stream",
     "text": [
      "<class 'pandas.core.frame.DataFrame'>\n",
      "Int64Index: 7506157 entries, 0 to 7506156\n",
      "Data columns (total 15 columns):\n",
      "order_id                  int64\n",
      "product_id                int64\n",
      "add_to_cart_order         int64\n",
      "reordered                 int64\n",
      "user_id                   float64\n",
      "eval_set                  int64\n",
      "order_number              float64\n",
      "order_dow                 float64\n",
      "order_hour_of_day         float64\n",
      "days_since_prior_order    float64\n",
      "product_name              object\n",
      "aisle_id                  int64\n",
      "department_id             int64\n",
      "prod_freq                 float64\n",
      "freq                      int64\n",
      "dtypes: float64(6), int64(8), object(1)\n",
      "memory usage: 1.4 GB\n"
     ]
    }
   ],
   "source": [
    "pr_ord.info(memory_usage='deep')"
   ]
  },
  {
   "cell_type": "code",
   "execution_count": 28,
   "metadata": {},
   "outputs": [
    {
     "data": {
      "image/png": "[encoded data removed]",
      "text/plain": [
       "<matplotlib.figure.Figure at 0x1e202de2080>"
      ]
     },
     "metadata": {},
     "output_type": "display_data"
    }
   ],
   "source": [
    "#check relationship between reorder times and add to cart order\n",
    "df_pr_gp = pr_ord.groupby('add_to_cart_order')['reordered'].sum()\n",
    "df_pr_gp = df_pr_gp.reset_index()\n",
    "df_pr_gp.columns = ['add_to_cart_order','reorder_sum']\n",
    "\n",
    "fig = plt.figure(figsize=(6,4))\n",
    "\n",
    "plt.scatter(df_pr_gp['add_to_cart_order'],df_pr_gp['reorder_sum'])\n",
    "plt.xlabel('add to cart order',fontsize=11)\n",
    "plt.ylabel('reorders',fontsize=11)\n",
    "\n",
    "\n",
    "plt.show()"
   ]
  },
  {
   "cell_type": "markdown",
   "metadata": {},
   "source": [
    "<div class=\"alert alert-success\">\n",
    "There is a clear nonlinear pattern between reorder counts and add to cart orders. The products adding to cart first are reordered the most.\n",
    "</div>"
   ]
  },
  {
   "cell_type": "markdown",
   "metadata": {},
   "source": [
    "# What aisles and deparments have most reorders"
   ]
  },
  {
   "cell_type": "code",
   "execution_count": 29,
   "metadata": {},
   "outputs": [
    {
     "name": "stdout",
     "output_type": "stream",
     "text": [
      "    department_id  reorder_sum\n",
      "3               4      1412214\n",
      "15             16       777797\n",
      "6               7       399760\n",
      "     aisle_id  reorder_sum\n",
      "23         24       580182\n",
      "82         83       474099\n",
      "122       123       264437\n"
     ]
    },
    {
     "data": {
      "image/png": "[encoded data removed]",
      "text/plain": [
       "<matplotlib.figure.Figure at 0x1e2033f17f0>"
      ]
     },
     "metadata": {},
     "output_type": "display_data"
    }
   ],
   "source": [
    "pr_dep = pr_ord.groupby('department_id')['reordered'].sum().reset_index(name='reorder_sum').sort_values('reorder_sum',ascending=False)\n",
    "pr_ais = pr_ord.groupby('aisle_id')['reordered'].sum().reset_index(name='reorder_sum').sort_values('reorder_sum',ascending=False)\n",
    "print(pr_dep.head(3))\n",
    "print(pr_ais.head(3))\n",
    "pr_dep = pr_dep.merge(department,on='department_id')\n",
    "pr_ais = pr_ais.merge(aisle,on='aisle_id')\n",
    "\n",
    "x = np.arange(0,10,1)\n",
    "fig = plt.figure(figsize=(10,4))\n",
    "a = fig.add_subplot(121)\n",
    "sns.barplot(x='aisle',y='reorder_sum',data=pr_ais.iloc[0:10,:],color='g')\n",
    "a.set_title('Top 10 Aisles in Reorders',fontsize=12)\n",
    "a.set_ylabel('reorders')\n",
    "plt.xticks(rotation=90)\n",
    "\n",
    "\n",
    "b = fig.add_subplot(122)\n",
    "sns.barplot(x='department',y='reorder_sum',data=pr_dep.iloc[0:10,:],color='b')\n",
    "b.set_title('Top 10 Departments in Reorders',fontsize=12)\n",
    "b.set_ylabel('')\n",
    "plt.xticks(rotation=90)\n",
    "\n",
    "\n",
    "plt.show()"
   ]
  },
  {
   "cell_type": "markdown",
   "metadata": {},
   "source": [
    "<div class=\"alert alert-success\">\n",
    "The most reordered aisles are fresh fruits and vegetables. The most reordered departments are produce and dairy eggs.\n",
    "</div>"
   ]
  },
  {
   "cell_type": "markdown",
   "metadata": {},
   "source": [
    "# department reorder ratio"
   ]
  },
  {
   "cell_type": "code",
   "execution_count": 30,
   "metadata": {},
   "outputs": [
    {
     "data": {
      "image/png": "[encoded data removed]",
      "text/plain": [
       "<matplotlib.figure.Figure at 0x1e2033cdd30>"
      ]
     },
     "metadata": {},
     "output_type": "display_data"
    }
   ],
   "source": [
    "dep_reo = pr_ord.groupby('department_id')['reordered'].mean().reset_index(name='reorder_ratio').sort_values('reorder_ratio',ascending=False)\n",
    "dep_reo = dep_reo.merge(department,on='department_id')\n",
    "sns.barplot(x='department',y='reorder_ratio',data=dep_reo,color='g',alpha=0.5)\n",
    "plt.xticks(rotation=90)\n",
    "plt.ylabel('reorder ratio')\n",
    "plt.show()"
   ]
  },
  {
   "cell_type": "markdown",
   "metadata": {},
   "source": [
    "<div class=\"alert alert-success\">\n",
    "Reorder ratio is high in dairy eggs, beverages, and produce and lowest in personal care.\n",
    "</div>"
   ]
  },
  {
   "cell_type": "markdown",
   "metadata": {},
   "source": [
    "# customer reorder habits"
   ]
  },
  {
   "cell_type": "code",
   "execution_count": 31,
   "metadata": {},
   "outputs": [
    {
     "name": "stdout",
     "output_type": "stream",
     "text": [
      "   user_id  reorder_ratio\n",
      "0      1.0       0.812500\n",
      "1      2.0       0.440000\n",
      "2      3.0       0.941176\n",
      "3      4.0       0.083333\n",
      "4      5.0       0.514286\n",
      "There are 3.27 (%) customers always reorder what they buy before\n",
      "There are 1.08 (%) customers never reorder what they buy before\n"
     ]
    }
   ],
   "source": [
    "pr_ord = pr_ord.dropna()  #remove rows of first time orders\n",
    "pr_reorder = pr_ord.groupby('user_id')['reordered'].mean()\n",
    "pr_reorder = pr_reorder.reset_index()\n",
    "pr_reorder.columns = ['user_id','reorder_ratio']\n",
    "print(pr_reorder.head())\n",
    "user_1 = 100*len(pr_reorder[pr_reorder['reorder_ratio'] == 1])/len(pr_reorder)\n",
    "user_0 = 100*round(len(pr_reorder[pr_reorder['reorder_ratio'] == 0])/len(pr_reorder),4)\n",
    "print(\"There are\",\"{:.2f}\".format(user_1),\"(%) customers always reorder what they buy before\")\n",
    "print(\"There are\",user_0,\"(%) customers never reorder what they buy before\")"
   ]
  },
  {
   "cell_type": "markdown",
   "metadata": {},
   "source": [
    "<div class=\"alert alert-success\">\n",
    "There are %3.27 customers always reorder what they buy before.  \n",
    "There are %1.08 customers never reorder what they buy before\n",
    "</div>"
   ]
  },
  {
   "cell_type": "markdown",
   "metadata": {},
   "source": [
    "# Part 3: Feature selection\n"
   ]
  },
  {
   "cell_type": "markdown",
   "metadata": {},
   "source": [
    "Four groups of feature are selected to predict whether a product will be reordered:  \n",
    "1. User features:  \n",
    "how many days between user's orders  \n",
    "user order size (how many items the user buy in one order)   \n",
    "order organic products \n",
    "\n",
    "2. Product features:  \n",
    "product order frequency  \n",
    "product purchase probability acorss a week  \n",
    "product purchase probability in a day  \n",
    "product add to cart order  \n",
    "aisle  \n",
    "department\n",
    "3. User-product features:  \n",
    "add to cart order at user level   \n",
    "frequency of purchasing a product for a user\n",
    "\n",
    "4. Date-time information:  \n",
    "order dow  \n",
    "order time  \n",
    "days_since_prior_order\n",
    "\n"
   ]
  },
  {
   "cell_type": "code",
   "execution_count": 38,
   "metadata": {},
   "outputs": [
    {
     "name": "stdout",
     "output_type": "stream",
     "text": [
      "   user_id  use_betw_days  order_size  organic_perc\n",
      "0      1.0      15.875000    8.000000      0.281250\n",
      "1      2.0      25.866667   18.750000      0.253333\n",
      "2      3.0      14.529412    5.666667      0.411765\n",
      "3      4.0      14.750000    4.000000      0.166667\n",
      "4      5.0      12.314286    8.750000      0.457143\n"
     ]
    }
   ],
   "source": [
    "# user features\n",
    "use_fea = pr_ord.groupby(['user_id']).agg({'days_since_prior_order':np.mean}).reset_index()\n",
    "use_fea.columns = ['user_id','use_betw_days']\n",
    "use_size = pr_ord.groupby(['user_id','order_number'])['product_id'].size().reset_index(name='order_size')\n",
    "use_mean_size = use_size.groupby('user_id')['order_size'].mean().reset_index(name='order_size')\n",
    "use_fea = use_fea.merge(use_mean_size,on='user_id',how='left')\n",
    "\n",
    "# define custom function for organic items\n",
    "pr_ord['is_organic'] = pr_ord['product_name'].map(lambda x: 'organic' in x.lower())\n",
    "organic_perc = pr_ord.groupby('user_id')['is_organic'].sum()/(pr_ord.groupby('user_id')['product_id'].size())\n",
    "organic_perc = organic_perc.reset_index(name='organic_perc')\n",
    "\n",
    "#merge with other user features\n",
    "use_fea = use_fea.merge(organic_perc,on='user_id',how='left')\n",
    "print(use_fea.head())"
   ]
  },
  {
   "cell_type": "code",
   "execution_count": 39,
   "metadata": {},
   "outputs": [
    {
     "name": "stdout",
     "output_type": "stream",
     "text": [
      "<class 'pandas.core.frame.DataFrame'>\n",
      "Int64Index: 7506157 entries, 0 to 7506156\n",
      "Data columns (total 15 columns):\n",
      "order_id                  int64\n",
      "product_id                int64\n",
      "add_to_cart_order         int64\n",
      "reordered                 int64\n",
      "user_id                   float64\n",
      "eval_set                  int64\n",
      "order_number              float64\n",
      "order_dow                 float64\n",
      "order_hour_of_day         float64\n",
      "days_since_prior_order    float64\n",
      "aisle_id                  int64\n",
      "department_id             int64\n",
      "prod_freq                 float64\n",
      "freq                      int64\n",
      "is_organic                bool\n",
      "dtypes: bool(1), float64(6), int64(8)\n",
      "memory usage: 866.2 MB\n"
     ]
    }
   ],
   "source": [
    "pr_ord.drop('product_name',axis=1,inplace=True) #remove unnecessary column to save space\n",
    "\n",
    "pr_ord.info(memory_usage='deep')"
   ]
  },
  {
   "cell_type": "code",
   "execution_count": 40,
   "metadata": {},
   "outputs": [
    {
     "name": "stdout",
     "output_type": "stream",
     "text": [
      "   product_id     dow_0     dow_1     dow_2     dow_3     dow_4     dow_5  \\\n",
      "0           1  0.105793  0.204030  0.153652  0.136020  0.158690  0.163728   \n",
      "1           2  0.208333  0.166667  0.041667  0.166667  0.083333  0.083333   \n",
      "2           3  0.142857  0.085714  0.114286  0.085714  0.114286  0.142857   \n",
      "3           4  0.217391  0.165217  0.139130  0.130435  0.113043  0.078261   \n",
      "4           5  0.000000  0.000000  0.000000  0.000000  0.000000  0.666667   \n",
      "\n",
      "      dow_6  \n",
      "0  0.078086  \n",
      "1  0.250000  \n",
      "2  0.314286  \n",
      "3  0.156522  \n",
      "4  0.333333  \n",
      "hour_of_day_div  product_id  afternoon     early   evening   morning\n",
      "0                         1   0.430730  0.012594  0.138539  0.418136\n",
      "1                         2   0.375000  0.000000  0.166667  0.458333\n",
      "2                         3   0.542857  0.057143  0.171429  0.228571\n",
      "3                         4   0.486957  0.026087  0.217391  0.269565\n",
      "4                         5   0.666667  0.000000  0.000000  0.333333\n",
      "   product_id  pro_add_to_card_order     dow_0     dow_1     dow_2     dow_3  \\\n",
      "0           1               5.672544  0.105793  0.204030  0.153652  0.136020   \n",
      "1           2               9.333333  0.208333  0.166667  0.041667  0.166667   \n",
      "2           3               5.200000  0.142857  0.085714  0.114286  0.085714   \n",
      "3           4               9.573913  0.217391  0.165217  0.139130  0.130435   \n",
      "4           5               5.666667  0.000000  0.000000  0.000000  0.000000   \n",
      "\n",
      "      dow_4     dow_5     dow_6  afternoon     early   evening   morning  \n",
      "0  0.158690  0.163728  0.078086   0.430730  0.012594  0.138539  0.418136  \n",
      "1  0.083333  0.083333  0.250000   0.375000  0.000000  0.166667  0.458333  \n",
      "2  0.114286  0.142857  0.314286   0.542857  0.057143  0.171429  0.228571  \n",
      "3  0.113043  0.078261  0.156522   0.486957  0.026087  0.217391  0.269565  \n",
      "4  0.000000  0.666667  0.333333   0.666667  0.000000  0.000000  0.333333  \n"
     ]
    }
   ],
   "source": [
    "# product features\n",
    "# reorder ratio, add to cart order\n",
    "pro_fea = pr_ord.groupby(['product_id']).agg({'add_to_cart_order':np.mean}).reset_index()\n",
    "pro_fea.columns = ['product_id','pro_add_to_card_order']\n",
    "# purchase distribution acorss a week\n",
    "pro_dow = pd.crosstab(pr_ord.product_id,pr_ord.order_dow).apply(lambda r: r/r.sum(), axis=1)\n",
    "pro_dow = pro_dow.reset_index()\n",
    "pro_dow.columns = ['product_id','dow_0','dow_1','dow_2','dow_3','dow_4','dow_5','dow_6']\n",
    "print(pro_dow.head())\n",
    "# purchase distribution across a day\n",
    "pr_ord['hour_of_day_div'] = 0\n",
    "pr_ord.loc[pr_ord.order_hour_of_day < 6,'hour_of_day_div'] = 'early'\n",
    "pr_ord.loc[(pr_ord.order_hour_of_day > 5) & (pr_ord.order_hour_of_day < 12),'hour_of_day_div'] = 'morning'\n",
    "pr_ord.loc[(pr_ord.order_hour_of_day > 11) & (pr_ord.order_hour_of_day < 18),'hour_of_day_div'] = 'afternoon'\n",
    "pr_ord.loc[pr_ord.order_hour_of_day > 17,'hour_of_day_div'] = 'evening'\n",
    "pro_hod = pd.crosstab(pr_ord.product_id,pr_ord.hour_of_day_div).apply(lambda r: r/r.sum(), axis=1)\n",
    "pro_hod = pro_hod.reset_index()\n",
    "print(pro_hod.head())\n",
    "pro_fea = pro_fea.merge(pro_dow,on='product_id',how='left').merge(pro_hod,on='product_id',how='left')\n",
    "print(pro_fea.head())"
   ]
  },
  {
   "cell_type": "code",
   "execution_count": 42,
   "metadata": {},
   "outputs": [
    {
     "name": "stdout",
     "output_type": "stream",
     "text": [
      "   product_id  user_id  pro_use_cart_order\n",
      "0           1    138.0                 1.0\n",
      "1           1    751.0                 4.0\n",
      "2           1    764.0                11.0\n",
      "3           1    910.0                 1.0\n",
      "4           1   1540.0                 3.0\n"
     ]
    }
   ],
   "source": [
    "# product-user properties\n",
    "pro_use_fea = pr_ord.groupby(['product_id','user_id'])['add_to_cart_order'].mean().reset_index(name='pro_use_cart_order')\n",
    "print(pro_use_fea.head())"
   ]
  },
  {
   "cell_type": "code",
   "execution_count": 43,
   "metadata": {},
   "outputs": [
    {
     "name": "stdout",
     "output_type": "stream",
     "text": [
      "<class 'pandas.core.frame.DataFrame'>\n",
      "Int64Index: 7506157 entries, 0 to 7506156\n",
      "Data columns (total 31 columns):\n",
      "order_id                  int64\n",
      "product_id                int64\n",
      "add_to_cart_order         int64\n",
      "reordered                 int64\n",
      "user_id                   float64\n",
      "eval_set                  int64\n",
      "order_number              float64\n",
      "order_dow                 float64\n",
      "order_hour_of_day         float64\n",
      "days_since_prior_order    float64\n",
      "aisle_id                  int64\n",
      "department_id             int64\n",
      "prod_freq                 float64\n",
      "freq                      int64\n",
      "is_organic                bool\n",
      "pro_add_to_card_order     float64\n",
      "dow_0                     float64\n",
      "dow_1                     float64\n",
      "dow_2                     float64\n",
      "dow_3                     float64\n",
      "dow_4                     float64\n",
      "dow_5                     float64\n",
      "dow_6                     float64\n",
      "afternoon                 float64\n",
      "early                     float64\n",
      "evening                   float64\n",
      "morning                   float64\n",
      "use_betw_days             float64\n",
      "order_size                float64\n",
      "organic_perc              float64\n",
      "pro_use_cart_order        float64\n",
      "dtypes: bool(1), float64(22), int64(8)\n",
      "memory usage: 1.7 GB\n"
     ]
    }
   ],
   "source": [
    "# merge new features to product-order dataset\n",
    "pr_ord.dropna(inplace=True)\n",
    "pr_ord.drop('hour_of_day_div',axis=1,inplace=True) #remove unnecessary column to save space\n",
    "pr_ord = pr_ord.merge(pro_fea,on='product_id',how='left').merge(use_fea,on='user_id',how='left').merge(pro_use_fea,on=['product_id','user_id'],how='left')\n",
    "pr_ord.info()"
   ]
  },
  {
   "cell_type": "code",
   "execution_count": 44,
   "metadata": {},
   "outputs": [
    {
     "data": {
      "text/plain": [
       "Index(['order_id', 'product_id', 'add_to_cart_order', 'reordered', 'user_id',\n",
       "       'eval_set', 'order_number', 'order_dow', 'order_hour_of_day',\n",
       "       'days_since_prior_order', 'aisle_id', 'department_id', 'prod_freq',\n",
       "       'freq', 'is_organic', 'pro_add_to_card_order', 'dow_0', 'dow_1',\n",
       "       'dow_2', 'dow_3', 'dow_4', 'dow_5', 'dow_6', 'afternoon', 'early',\n",
       "       'evening', 'morning', 'use_betw_days', 'order_size', 'organic_perc',\n",
       "       'pro_use_cart_order'],\n",
       "      dtype='object')"
      ]
     },
     "execution_count": 44,
     "metadata": {},
     "output_type": "execute_result"
    }
   ],
   "source": [
    "pr_ord.columns"
   ]
  },
  {
   "cell_type": "code",
   "execution_count": 45,
   "metadata": {},
   "outputs": [
    {
     "data": {
      "image/png": "[encoded data removed]",
      "text/plain": [
       "<matplotlib.figure.Figure at 0x1e203316cc0>"
      ]
     },
     "metadata": {},
     "output_type": "display_data"
    }
   ],
   "source": [
    "# features from 3rd round selection, 23 features in total\n",
    "feature_list = ['order_dow', 'order_hour_of_day','days_since_prior_order', 'prod_freq',\n",
    "       'freq', 'pro_add_to_card_order', 'dow_0', 'dow_1',\n",
    "       'dow_2', 'dow_3', 'dow_4', 'dow_5', 'dow_6', 'afternoon', 'early',\n",
    "       'evening', 'morning',  'use_betw_days', 'order_size', 'organic_perc',\n",
    "       'pro_use_cart_order','aisle_id','department_id']\n",
    "#correlation heatmap, check feature intercorrelation\n",
    "pr_cor = pr_ord[feature_list].corr()\n",
    "fig = plt.figure(figsize=(8,6))\n",
    "sns.heatmap(pr_cor,vmin=-1,vmax=1,cmap='RdBu_r')\n",
    "plt.show()"
   ]
  },
  {
   "cell_type": "markdown",
   "metadata": {},
   "source": [
    "As feature \"dow_6\" and \"early\" can be calculated from other features, they are not kept as independent variables. Although user in-between days is correlated with days_since_prior_order, it represents user ordering habits and is kept as an indepedent variable."
   ]
  },
  {
   "cell_type": "markdown",
   "metadata": {},
   "source": [
    "<div class=\"alert alert-success\">\n",
    "After 3 round feature selection, 21 features were selected as independent variables to represent order information, user properties, product properties, and user-product properties.  \n",
    "\n",
    "</div>"
   ]
  },
  {
   "cell_type": "markdown",
   "metadata": {},
   "source": [
    "# Part 4: Modeling\n",
    "- Try Logistic Regression first\n",
    "- Then Random Forest, first round with default parameters and 2nd round with tuned parameters using Grid Search\n",
    "- Last use Stochastic Gradient Descent\n",
    "- Because the data is large for my personal computer, use a subsample to find the parameters and model"
   ]
  },
  {
   "cell_type": "code",
   "execution_count": 47,
   "metadata": {},
   "outputs": [
    {
     "name": "stdout",
     "output_type": "stream",
     "text": [
      "750616\n"
     ]
    }
   ],
   "source": [
    "# dow_6 and early are removed from feature list, 21 features are kept\n",
    "feature_list = ['order_dow', 'order_hour_of_day','days_since_prior_order', 'prod_freq',\n",
    "       'freq', 'pro_add_to_card_order', 'dow_0', 'dow_1',\n",
    "       'dow_2', 'dow_3', 'dow_4', 'dow_5', 'afternoon',\n",
    "       'evening', 'morning',  'use_betw_days', 'order_size', 'organic_perc',\n",
    "       'pro_use_cart_order','aisle_id','department_id']\n",
    "# training set: use a subsample of \"prior\" datset to fit model and tune parameters (10% of original prior data)\n",
    "X_train = pr_ord.sample(frac=0.1,random_state=12)[feature_list]\n",
    "y_train = pr_ord.sample(frac=0.1,random_state=12)['reordered']\n",
    "print(len(X_train))"
   ]
  },
  {
   "cell_type": "code",
   "execution_count": 48,
   "metadata": {},
   "outputs": [
    {
     "data": {
      "text/plain": [
       "order_dow                 0\n",
       "order_hour_of_day         0\n",
       "days_since_prior_order    0\n",
       "prod_freq                 0\n",
       "freq                      0\n",
       "pro_add_to_card_order     0\n",
       "dow_0                     0\n",
       "dow_1                     0\n",
       "dow_2                     0\n",
       "dow_3                     0\n",
       "dow_4                     0\n",
       "dow_5                     0\n",
       "afternoon                 0\n",
       "evening                   0\n",
       "morning                   0\n",
       "use_betw_days             0\n",
       "order_size                0\n",
       "organic_perc              0\n",
       "pro_use_cart_order        0\n",
       "aisle_id                  0\n",
       "department_id             0\n",
       "dtype: int64"
      ]
     },
     "execution_count": 48,
     "metadata": {},
     "output_type": "execute_result"
    }
   ],
   "source": [
    "X_train.isna().sum()"
   ]
  },
  {
   "cell_type": "code",
   "execution_count": 49,
   "metadata": {},
   "outputs": [],
   "source": [
    "from sklearn.linear_model import LogisticRegression\n",
    "from sklearn.metrics import accuracy_score\n",
    "from sklearn.metrics import f1_score\n",
    "from sklearn.metrics import roc_auc_score\n",
    "from sklearn.pipeline import make_pipeline\n",
    "from sklearn.preprocessing import StandardScaler"
   ]
  },
  {
   "cell_type": "markdown",
   "metadata": {},
   "source": [
    "**Pipeline includes two steps: scaling and modeling**"
   ]
  },
  {
   "cell_type": "code",
   "execution_count": 50,
   "metadata": {},
   "outputs": [],
   "source": [
    "scaler = StandardScaler()\n",
    "model = LogisticRegression(random_state=12)\n",
    "pipeline = make_pipeline(scaler,model)"
   ]
  },
  {
   "cell_type": "code",
   "execution_count": 51,
   "metadata": {},
   "outputs": [
    {
     "name": "stdout",
     "output_type": "stream",
     "text": [
      "accuracy score on train set is: 0.7622206294563398\n",
      "f1 score on train set is: 0.7850949596092045\n",
      "area under roc curve on train set is: 0.7644140378161415\n"
     ]
    }
   ],
   "source": [
    "#model fit\n",
    "pipeline.fit(X_train,y_train)\n",
    "y_tr_pre = pipeline.predict(X_train)\n",
    "\n",
    "print(\"accuracy score on train set is:\",accuracy_score(y_train,y_tr_pre))\n",
    "print(\"f1 score on train set is:\",f1_score(y_train,y_tr_pre))\n",
    "print(\"area under roc curve on train set is:\",roc_auc_score(y_train,y_tr_pre))"
   ]
  },
  {
   "cell_type": "markdown",
   "metadata": {},
   "source": [
    "<div class=\"alert alert-success\">\n",
    "In the 3rd round feature selection, model performance on the training set is slightly lower than the first two rounds. That is because the first two rounds use features such as product reorder ratio which directly calculated from the \"y\", and that pollutes results.  \n",
    "In the 3rd round, logistic regression yields decent results on the training set:  \n",
    "accuracy score on train set is: 0.7622206294563398  \n",
    "f1 score on train set is: 0.7850949596092045  \n",
    "area under roc curve on train set is: 0.7644140378161415\n",
    "</div>"
   ]
  },
  {
   "cell_type": "markdown",
   "metadata": {},
   "source": [
    "# Part 5: Predict on test set"
   ]
  },
  {
   "cell_type": "code",
   "execution_count": 72,
   "metadata": {},
   "outputs": [
    {
     "data": {
      "text/html": [
       "<div>\n",
       "<style scoped>\n",
       "    .dataframe tbody tr th:only-of-type {\n",
       "        vertical-align: middle;\n",
       "    }\n",
       "\n",
       "    .dataframe tbody tr th {\n",
       "        vertical-align: top;\n",
       "    }\n",
       "\n",
       "    .dataframe thead th {\n",
       "        text-align: right;\n",
       "    }\n",
       "</style>\n",
       "<table border=\"1\" class=\"dataframe\">\n",
       "  <thead>\n",
       "    <tr style=\"text-align: right;\">\n",
       "      <th></th>\n",
       "      <th>order_id</th>\n",
       "      <th>user_id</th>\n",
       "      <th>eval_set</th>\n",
       "      <th>order_number</th>\n",
       "      <th>order_dow</th>\n",
       "      <th>order_hour_of_day</th>\n",
       "      <th>days_since_prior_order</th>\n",
       "    </tr>\n",
       "  </thead>\n",
       "  <tbody>\n",
       "    <tr>\n",
       "      <th>38</th>\n",
       "      <td>2774568</td>\n",
       "      <td>3</td>\n",
       "      <td>test</td>\n",
       "      <td>13</td>\n",
       "      <td>5</td>\n",
       "      <td>15</td>\n",
       "      <td>11.0</td>\n",
       "    </tr>\n",
       "    <tr>\n",
       "      <th>44</th>\n",
       "      <td>329954</td>\n",
       "      <td>4</td>\n",
       "      <td>test</td>\n",
       "      <td>6</td>\n",
       "      <td>3</td>\n",
       "      <td>12</td>\n",
       "      <td>30.0</td>\n",
       "    </tr>\n",
       "    <tr>\n",
       "      <th>53</th>\n",
       "      <td>1528013</td>\n",
       "      <td>6</td>\n",
       "      <td>test</td>\n",
       "      <td>4</td>\n",
       "      <td>3</td>\n",
       "      <td>16</td>\n",
       "      <td>22.0</td>\n",
       "    </tr>\n",
       "    <tr>\n",
       "      <th>96</th>\n",
       "      <td>1376945</td>\n",
       "      <td>11</td>\n",
       "      <td>test</td>\n",
       "      <td>8</td>\n",
       "      <td>6</td>\n",
       "      <td>11</td>\n",
       "      <td>8.0</td>\n",
       "    </tr>\n",
       "    <tr>\n",
       "      <th>102</th>\n",
       "      <td>1356845</td>\n",
       "      <td>12</td>\n",
       "      <td>test</td>\n",
       "      <td>6</td>\n",
       "      <td>1</td>\n",
       "      <td>20</td>\n",
       "      <td>30.0</td>\n",
       "    </tr>\n",
       "  </tbody>\n",
       "</table>\n",
       "</div>"
      ],
      "text/plain": [
       "     order_id  user_id eval_set  order_number  order_dow  order_hour_of_day  \\\n",
       "38    2774568        3     test            13          5                 15   \n",
       "44     329954        4     test             6          3                 12   \n",
       "53    1528013        6     test             4          3                 16   \n",
       "96    1376945       11     test             8          6                 11   \n",
       "102   1356845       12     test             6          1                 20   \n",
       "\n",
       "     days_since_prior_order  \n",
       "38                     11.0  \n",
       "44                     30.0  \n",
       "53                     22.0  \n",
       "96                      8.0  \n",
       "102                    30.0  "
      ]
     },
     "execution_count": 72,
     "metadata": {},
     "output_type": "execute_result"
    }
   ],
   "source": [
    "test_df.head()"
   ]
  },
  {
   "cell_type": "code",
   "execution_count": 78,
   "metadata": {},
   "outputs": [
    {
     "name": "stdout",
     "output_type": "stream",
     "text": [
      "5546418\n",
      "<class 'pandas.core.frame.DataFrame'>\n",
      "Int64Index: 5546418 entries, 0 to 5546417\n",
      "Data columns (total 25 columns):\n",
      "user_id                   object\n",
      "product_id                int64\n",
      "prod_freq                 float64\n",
      "freq                      int64\n",
      "pro_add_to_card_order     float64\n",
      "dow_0                     float64\n",
      "dow_1                     float64\n",
      "dow_2                     float64\n",
      "dow_3                     float64\n",
      "dow_4                     float64\n",
      "dow_5                     float64\n",
      "afternoon                 float64\n",
      "evening                   float64\n",
      "morning                   float64\n",
      "use_betw_days             float64\n",
      "order_size                float64\n",
      "organic_perc              float64\n",
      "pro_use_cart_order        float64\n",
      "aisle_id                  int64\n",
      "department_id             int64\n",
      "order_id                  float64\n",
      "order_number              float64\n",
      "order_dow                 float64\n",
      "order_hour_of_day         float64\n",
      "days_since_prior_order    float64\n",
      "dtypes: float64(20), int64(4), object(1)\n",
      "memory usage: 1.1+ GB\n"
     ]
    }
   ],
   "source": [
    "# construct feature matrix for test set\n",
    "feature_train = ['user_id','product_id', 'prod_freq',\n",
    "       'freq', 'pro_add_to_card_order', 'dow_0', 'dow_1',\n",
    "       'dow_2', 'dow_3', 'dow_4', 'dow_5', 'afternoon',\n",
    "       'evening', 'morning',  'use_betw_days', 'order_size', 'organic_perc',\n",
    "       'pro_use_cart_order','aisle_id','department_id']\n",
    "pr_ord_test = pr_ord[feature_train].drop_duplicates()\n",
    "print(len(pr_ord_test))\n",
    "pr_ord_test = pr_ord_test.merge(test_df,on='user_id',how='left')\n",
    "pr_ord_test.drop('eval_set',axis=1,inplace=True)\n",
    "pr_ord_test.info()"
   ]
  },
  {
   "cell_type": "code",
   "execution_count": 79,
   "metadata": {},
   "outputs": [
    {
     "data": {
      "text/plain": [
       "index                     0\n",
       "user_id                   0\n",
       "product_id                0\n",
       "prod_freq                 0\n",
       "freq                      0\n",
       "pro_add_to_card_order     0\n",
       "dow_0                     0\n",
       "dow_1                     0\n",
       "dow_2                     0\n",
       "dow_3                     0\n",
       "dow_4                     0\n",
       "dow_5                     0\n",
       "afternoon                 0\n",
       "evening                   0\n",
       "morning                   0\n",
       "use_betw_days             0\n",
       "order_size                0\n",
       "organic_perc              0\n",
       "pro_use_cart_order        0\n",
       "aisle_id                  0\n",
       "department_id             0\n",
       "order_id                  0\n",
       "order_number              0\n",
       "order_dow                 0\n",
       "order_hour_of_day         0\n",
       "days_since_prior_order    0\n",
       "dtype: int64"
      ]
     },
     "execution_count": 79,
     "metadata": {},
     "output_type": "execute_result"
    }
   ],
   "source": [
    "pr_ord_test = pr_ord_test.dropna().reset_index()\n",
    "pr_ord_test.isna().sum()"
   ]
  },
  {
   "cell_type": "code",
   "execution_count": 80,
   "metadata": {},
   "outputs": [],
   "source": [
    "# predict reorder on test data\n",
    "X_test = pr_ord_test[feature_list]\n",
    "y_test_pre = pipeline.predict(X_test)"
   ]
  },
  {
   "cell_type": "code",
   "execution_count": 81,
   "metadata": {},
   "outputs": [
    {
     "name": "stdout",
     "output_type": "stream",
     "text": [
      "   reorder\n",
      "0        1\n",
      "1        0\n",
      "2        0\n",
      "3        0\n",
      "4        1\n",
      "1740046\n",
      "  user_id   order_id  product_id  reorder\n",
      "0  174840    38977.0        9755        1\n",
      "1  174840    38977.0       25466        0\n",
      "2  174840    38977.0       45437        0\n",
      "3   10951  1962375.0       36884        0\n",
      "4   10951  1962375.0       48183        1\n",
      "<class 'pandas.core.frame.DataFrame'>\n",
      "RangeIndex: 1740046 entries, 0 to 1740045\n",
      "Data columns (total 4 columns):\n",
      "user_id       object\n",
      "order_id      float64\n",
      "product_id    int64\n",
      "reorder       int64\n",
      "dtypes: float64(1), int64(2), object(1)\n",
      "memory usage: 53.1+ MB\n",
      "None\n"
     ]
    }
   ],
   "source": [
    "# convert predicted results to required format\n",
    "df_test = pd.DataFrame(y_test_pre)\n",
    "df_test.columns = ['reorder']\n",
    "print(df_test.head())\n",
    "print(len(df_test))\n",
    "result = pd.concat([pr_ord_test[['user_id','order_id','product_id']],df_test],axis=1)\n",
    "print(result.head())\n",
    "print(result.info())"
   ]
  },
  {
   "cell_type": "code",
   "execution_count": 90,
   "metadata": {},
   "outputs": [
    {
     "name": "stdout",
     "output_type": "stream",
     "text": [
      "  order_id  user_id eval_set  order_number  order_dow  order_hour_of_day  \\\n",
      "0  2774568        3     test            13          5                 15   \n",
      "1   329954        4     test             6          3                 12   \n",
      "2  1528013        6     test             4          3                 16   \n",
      "3  1376945       11     test             8          6                 11   \n",
      "4  1356845       12     test             6          1                 20   \n",
      "\n",
      "   days_since_prior_order                                    products  \n",
      "0                    11.0  [39190, 47766, 21903, 17668, 18599, 23650]  \n",
      "1                    30.0                                         NaN  \n",
      "2                    22.0                                     [21903]  \n",
      "3                     8.0   [44632, 20383, 27959, 8309, 33572, 13176]  \n",
      "4                    30.0     [13176, 14992, 10863, 7076, 8239, 5746]  \n"
     ]
    }
   ],
   "source": [
    "result_reorder = result[result['reorder']==1][['order_id','product_id']]\n",
    "result_reorder = result_reorder.groupby('order_id')['product_id'].unique().reset_index(name='products')\n",
    "test_df = test_df.merge(result_reorder,on='order_id',how='left')\n",
    "\n",
    "print(test_df.head())\n",
    "test_df[['order_id','products']].to_csv('C:/DS/Springboard/1st_capstone_project/lgr_submission.csv',header=True)"
   ]
  },
  {
   "cell_type": "markdown",
   "metadata": {},
   "source": [
    "<div class=\"alert alert-success\">\n",
    "The results from Logistic Regression were submitted to Kaggle, scoring 0.3317, compared to the 1st place of 0.4.\n",
    "</div>"
   ]
  },
  {
   "cell_type": "markdown",
   "metadata": {},
   "source": [
    "# Random Forest"
   ]
  },
  {
   "cell_type": "code",
   "execution_count": 93,
   "metadata": {},
   "outputs": [],
   "source": [
    "#cross validation\n",
    "#parameter tuning for random forest\n",
    "from sklearn.ensemble import RandomForestClassifier\n",
    "from sklearn.model_selection import GridSearchCV\n",
    "from sklearn.pipeline import Pipeline\n",
    "scaler = StandardScaler()\n",
    "model = RandomForestClassifier()\n",
    "steps = [('scaler',StandardScaler()),('model',RandomForestClassifier())]\n",
    "pipeline = Pipeline(steps)\n",
    "param_dict = {'model__n_estimators':[100,150],'model__max_depth':[5,10],'model__min_samples_leaf':[3,5],'model__max_features':[3,5],'model__random_state':[12]}\n",
    "\n",
    "cv = GridSearchCV(pipeline,param_grid=param_dict,scoring='f1')"
   ]
  },
  {
   "cell_type": "code",
   "execution_count": 94,
   "metadata": {},
   "outputs": [
    {
     "name": "stdout",
     "output_type": "stream",
     "text": [
      "{'model__max_depth': 5, 'model__max_features': 3, 'model__min_samples_leaf': 5, 'model__n_estimators': 150, 'model__random_state': 12}\n",
      "0.7917893223738777\n"
     ]
    }
   ],
   "source": [
    "cv.fit(X_train,y_train)\n",
    "print(cv.best_params_)\n",
    "print(cv.best_score_)"
   ]
  },
  {
   "cell_type": "code",
   "execution_count": 95,
   "metadata": {},
   "outputs": [
    {
     "name": "stdout",
     "output_type": "stream",
     "text": [
      "accuracy score on train set is: 0.7601503298624064\n",
      "f1 score on train set is: 0.7919928182151138\n",
      "area under roc curve on train set is: 0.7547594811199003\n"
     ]
    }
   ],
   "source": [
    "y_tr_pre = cv.predict(X_train)\n",
    "print(\"accuracy score on train set is:\",accuracy_score(y_train,y_tr_pre))\n",
    "print(\"f1 score on train set is:\",f1_score(y_train,y_tr_pre))\n",
    "print(\"area under roc curve on train set is:\",roc_auc_score(y_train,y_tr_pre))"
   ]
  },
  {
   "cell_type": "code",
   "execution_count": 104,
   "metadata": {},
   "outputs": [
    {
     "data": {
      "text/plain": [
       "array([5.98969228e-08, 1.97394568e-05, 4.10776402e-02, 1.10375632e-01,\n",
       "       6.35342049e-01, 4.69360191e-02, 1.40179987e-03, 1.32286336e-02,\n",
       "       6.55662555e-03, 4.02207747e-03, 2.34651345e-03, 1.84457818e-03,\n",
       "       2.32966904e-03, 6.90841587e-04, 6.40850327e-03, 6.29467258e-02,\n",
       "       1.40878991e-02, 3.33517137e-03, 3.68187238e-02, 2.09474750e-03,\n",
       "       8.13635115e-03])"
      ]
     },
     "execution_count": 104,
     "metadata": {},
     "output_type": "execute_result"
    }
   ],
   "source": [
    "importances = cv.best_estimator_.named_steps[\"model\"].feature_importances_\n",
    "importances"
   ]
  },
  {
   "cell_type": "markdown",
   "metadata": {},
   "source": [
    "<div class=\"alert alert-success\">\n",
    "</p>After parameter tuning, random forest with a max depth of 5, estimators of 150, max feastures of 3 and min samples leaf of 5 returns the model with highest f1 score. The model's prediction on the train data is slightly better than the results from Logistic Regression with an f1 score of 0.79, while accuracy and auc under roc are slightly lower than those from Logistic Regression.  <p/>  \n",
    "</p>Based on the feature importance score, add to cart order and product order frequency at user level are the most important features.<p/>  \n",
    "</div>"
   ]
  },
  {
   "cell_type": "code",
   "execution_count": 107,
   "metadata": {},
   "outputs": [
    {
     "name": "stdout",
     "output_type": "stream",
     "text": [
      "   reorder\n",
      "0        1\n",
      "1        1\n",
      "2        0\n",
      "3        0\n",
      "4        1\n",
      "1740046\n",
      "  order_id  user_id eval_set  order_number  order_dow  order_hour_of_day  \\\n",
      "0  2774568        3     test            13          5                 15   \n",
      "1   329954        4     test             6          3                 12   \n",
      "2  1528013        6     test             4          3                 16   \n",
      "3  1376945       11     test             8          6                 11   \n",
      "4  1356845       12     test             6          1                 20   \n",
      "\n",
      "   days_since_prior_order                                           products  \n",
      "0                    11.0  [39190, 47766, 21903, 43961, 17668, 18599, 23650]  \n",
      "1                    30.0                                                NaN  \n",
      "2                    22.0          [38293, 20323, 21903, 45007, 11068, 8424]  \n",
      "3                     8.0   [44632, 20383, 27959, 8309, 24799, 33572, 43352]  \n",
      "4                    30.0            [13176, 14992, 10863, 7076, 8239, 5746]  \n"
     ]
    }
   ],
   "source": [
    "# predict on test set\n",
    "y_test_pre = cv.predict(X_test)\n",
    "\n",
    "# convert to required format\n",
    "df_test = pd.DataFrame(y_test_pre)\n",
    "df_test.columns = ['reorder']\n",
    "\n",
    "result = pd.concat([pr_ord_test[['user_id','order_id','product_id']],df_test],axis=1)\n",
    "\n",
    "result_reorder = result[result['reorder']==1][['order_id','product_id']]\n",
    "result_reorder = result_reorder.groupby('order_id')['product_id'].unique().reset_index(name='products')\n",
    "test_df = test_df.merge(result_reorder,on='order_id',how='left')\n",
    "\n",
    "print(test_df.head())\n",
    "test_df[['order_id','products']].to_csv('C:/DS/Springboard/1st_capstone_project/rfc_submission.csv',header=True)"
   ]
  },
  {
   "cell_type": "markdown",
   "metadata": {},
   "source": [
    "<div class=\"alert alert-success\">\n",
    "Score of the results from Random Forest Classifier is 0.3335, slightly better than the results from Logistic Regression.\n",
    "</div>"
   ]
  },
  {
   "cell_type": "markdown",
   "metadata": {},
   "source": [
    "# Stochastic Gradient Descent"
   ]
  },
  {
   "cell_type": "code",
   "execution_count": 108,
   "metadata": {},
   "outputs": [],
   "source": [
    "from sklearn.linear_model import SGDClassifier"
   ]
  },
  {
   "cell_type": "code",
   "execution_count": 117,
   "metadata": {},
   "outputs": [],
   "source": [
    "#cross validation\n",
    "#parameter tuning \n",
    "from sklearn.model_selection import GridSearchCV\n",
    "from sklearn.pipeline import Pipeline\n",
    "scaler = StandardScaler()\n",
    "sdg = SGDClassifier()\n",
    "steps = [('scaler',StandardScaler()),('sdg',SGDClassifier())]\n",
    "pipeline = Pipeline(steps)\n",
    "param_dict = {'sdg__loss':['squared_hinge','log'],'sdg__alpha':[0.001,0.01],'sdg__max_iter':[500,1000],'sdg__random_state':[12]}\n",
    "\n",
    "cv = GridSearchCV(pipeline,param_grid=param_dict,scoring='f1')"
   ]
  },
  {
   "cell_type": "code",
   "execution_count": 118,
   "metadata": {},
   "outputs": [
    {
     "name": "stdout",
     "output_type": "stream",
     "text": [
      "{'sdg__alpha': 0.01, 'sdg__loss': 'log', 'sdg__max_iter': 500, 'sdg__random_state': 12}\n",
      "0.7859129146486524\n"
     ]
    }
   ],
   "source": [
    "cv.fit(X_train,y_train)\n",
    "print(cv.best_params_)\n",
    "print(cv.best_score_)"
   ]
  },
  {
   "cell_type": "code",
   "execution_count": 119,
   "metadata": {},
   "outputs": [
    {
     "name": "stdout",
     "output_type": "stream",
     "text": [
      "accuracy score on train set is: 0.7613826510492715\n",
      "f1 score on train set is: 0.7859113380571253\n",
      "area under roc curve on train set is: 0.7622414740360158\n"
     ]
    }
   ],
   "source": [
    "# evaluation performance of training set\n",
    "y_tr_pre = cv.predict(X_train)\n",
    "print(\"accuracy score on train set is:\",accuracy_score(y_train,y_tr_pre))\n",
    "print(\"f1 score on train set is:\",f1_score(y_train,y_tr_pre))\n",
    "print(\"area under roc curve on train set is:\",roc_auc_score(y_train,y_tr_pre))"
   ]
  },
  {
   "cell_type": "code",
   "execution_count": 121,
   "metadata": {},
   "outputs": [
    {
     "name": "stdout",
     "output_type": "stream",
     "text": [
      "  order_id  user_id eval_set  order_number  order_dow  order_hour_of_day  \\\n",
      "0  2774568        3     test            13          5                 15   \n",
      "1   329954        4     test             6          3                 12   \n",
      "2  1528013        6     test             4          3                 16   \n",
      "3  1376945       11     test             8          6                 11   \n",
      "4  1356845       12     test             6          1                 20   \n",
      "\n",
      "   days_since_prior_order                                    products  \n",
      "0                    11.0  [39190, 47766, 21903, 17668, 18599, 23650]  \n",
      "1                    30.0                                         NaN  \n",
      "2                    22.0                                     [21903]  \n",
      "3                     8.0   [44632, 20383, 27959, 8309, 33572, 13176]  \n",
      "4                    30.0     [13176, 14992, 10863, 7076, 8239, 5746]  \n"
     ]
    }
   ],
   "source": [
    "# predict on test set\n",
    "y_test_pre = cv.predict(X_test)\n",
    "\n",
    "# convert to required format\n",
    "df_test = pd.DataFrame(y_test_pre)\n",
    "df_test.columns = ['reorder']\n",
    "\n",
    "result = pd.concat([pr_ord_test[['user_id','order_id','product_id']],df_test],axis=1)\n",
    "\n",
    "result_reorder = result[result['reorder']==1][['order_id','product_id']]\n",
    "result_reorder = result_reorder.groupby('order_id')['product_id'].unique().reset_index(name='products')\n",
    "test_df = test_df.merge(result_reorder,on='order_id',how='left')\n",
    "\n",
    "print(test_df.head())\n",
    "test_df[['order_id','products']].to_csv('C:/DS/Springboard/1st_capstone_project/sgd_submission.csv',header=True)"
   ]
  },
  {
   "cell_type": "markdown",
   "metadata": {},
   "source": [
    "<div class=\"alert alert-success\">\n",
    "Score of the results from Stochastic Gradient Descent is 0.3326, slightly higher than the results from Logistic Regression but lower than the result from Random Forest Classifier.\n",
    "</div>"
   ]
  },
  {
   "cell_type": "markdown",
   "metadata": {},
   "source": [
    "# Additional feature\n",
    "Potentially useful features but not included in current model due to computational limitation"
   ]
  },
  {
   "cell_type": "code",
   "execution_count": null,
   "metadata": {},
   "outputs": [
    {
     "name": "stdout",
     "output_type": "stream",
     "text": [
      "   order_number  consec_days   user_id\n",
      "0          11.0         30.0  142903.0\n",
      "1          49.0          3.0   18194.0\n",
      "2          18.0         13.0  174840.0\n",
      "3          21.0          8.0   68572.0\n",
      "4          19.0         25.0   59897.0\n",
      "   order_id  product_id  add_to_cart_order  reordered   user_id  eval_set  \\\n",
      "0         7       34050                  1          0  142903.0         1   \n",
      "1         7       46802                  2          0  142903.0         1   \n",
      "2        14       20392                  1          1   18194.0         1   \n",
      "3        14       27845                  2          1   18194.0         1   \n",
      "4        14         162                  3          1   18194.0         1   \n",
      "\n",
      "   order_number  order_dow  order_hour_of_day  days_since_prior_order  \\\n",
      "0          11.0        2.0               14.0                    30.0   \n",
      "1          11.0        2.0               14.0                    30.0   \n",
      "2          49.0        3.0               15.0                     3.0   \n",
      "3          49.0        3.0               15.0                     3.0   \n",
      "4          49.0        3.0               15.0                     3.0   \n",
      "\n",
      "      ...          dow_6  afternoon     early   evening   morning  \\\n",
      "0     ...       0.153736   0.468966  0.024425  0.185345  0.321264   \n",
      "1     ...       0.144977   0.485417  0.020979  0.181818  0.311786   \n",
      "2     ...       0.145418   0.444223  0.009960  0.181275  0.364542   \n",
      "3     ...       0.144032   0.464132  0.016371  0.184812  0.334685   \n",
      "4     ...       0.130312   0.459868  0.015109  0.179415  0.345609   \n",
      "\n",
      "   use_reorder_ratio  use_reorder_days  order_size  pro_use_reorder_ratio  \\\n",
      "0               0.00         19.166667        1.50                    0.0   \n",
      "1               0.00         19.166667        1.50                    0.0   \n",
      "2               0.72          5.640000        6.25                    1.0   \n",
      "3               0.72          5.640000        6.25                    1.0   \n",
      "4               0.72          5.640000        6.25                    1.0   \n",
      "\n",
      "   consec_days  \n",
      "0         30.0  \n",
      "1         30.0  \n",
      "2          3.0  \n",
      "3          3.0  \n",
      "4          3.0  \n",
      "\n",
      "[5 rows x 32 columns]\n"
     ]
    }
   ],
   "source": [
    "# this feature calcuates the in-between days of products at user level. It involves two main steps: \n",
    "# first calcuate cumulative order days of the user, then calculate in-between days based on frequency and cumulative days\n",
    "# but this feature takes long time to run (> 5 hours),not used in the current model due to computational limit\n",
    "\n",
    "# consective days\n",
    "days_sel = pr_ord[['user_id','order_number','days_since_prior_order']].drop_duplicates()\n",
    "d = {'days_since_prior_order':'consec_days'}\n",
    "days_com = days_sel.rename(columns=d).groupby('user_id').cumsum()\n",
    "\n",
    "days_com[['user_id','order_number']] = days_sel[['user_id','order_number']]\n",
    "days_com = days_com.reset_index()\n",
    "days_com.drop('index',axis=1,inplace=True)\n",
    "print(days_com.head())\n",
    "\n",
    "pr_ord = pr_ord.merge(days_com,on=['order_number','user_id'],how='left')\n",
    "pr_ord.sort_values(['user_id', 'order_number'], ascending=[True, True])\n",
    "print(pr_ord.head())\n",
    "# define custom function to calculate in between days for products at user level\n",
    "def days_inbetween(data):\n",
    "    user_id = data['user_id']\n",
    "    product_id = data['product_id']\n",
    "    if data['freq'].mean() == 1:\n",
    "        db = 9999\n",
    "    elif data['freq'].mean() == 4:\n",
    "        db = data['days_since_prior_order'].mean()\n",
    "    elif data['freq'].mean() == 2:\n",
    "        db = data['consec_days'].diff()\n",
    "    else:\n",
    "        db = data['consec_days'].diff().mean()\n",
    "    new_df = pd.DataFrame({'user':user_id,'product':product_id,'days_betw_prod_user': db})\n",
    "    return new_df \n",
    "\n",
    "# product purchase in-between days calculated using custom function\n",
    "df_db = pr_ord[['user_id','product_id','freq','days_since_prior_order','consec_days']].groupby(['user_id','product_id'],as_index=False).apply(days_inbetween)\n",
    "print(df_db.head())\n",
    "#pr_ord = pr_ord.merge(df_db,on=['user_id','product_id'],how='left')\n",
    "#pr_ord.head()\n"
   ]
  },
  {
   "cell_type": "code",
   "execution_count": null,
   "metadata": {},
   "outputs": [],
   "source": []
  }
 ],
 "metadata": {
  "kernelspec": {
   "display_name": "Python 3",
   "language": "python",
   "name": "python3"
  },
  "language_info": {
   "codemirror_mode": {
    "name": "ipython",
    "version": 3
   },
   "file_extension": ".py",
   "mimetype": "text/x-python",
   "name": "python",
   "nbconvert_exporter": "python",
   "pygments_lexer": "ipython3",
   "version": "3.6.4"
  }
 },
 "nbformat": 4,
 "nbformat_minor": 2
}
