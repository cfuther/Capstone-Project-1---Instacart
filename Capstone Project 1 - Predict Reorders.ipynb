{
 "cells": [
  {
   "cell_type": "code",
   "execution_count": 1,
   "metadata": {},
   "outputs": [],
   "source": [
    "import numpy as np\n",
    "import pandas as pd\n",
    "import matplotlib.pyplot as plt"
   ]
  },
  {
   "cell_type": "code",
   "execution_count": 2,
   "metadata": {},
   "outputs": [],
   "source": [
    "#read in product information\n",
    "products = pd.read_csv('C:/DS/Springboard/1st_capstone_project/products/products.csv')\n"
   ]
  },
  {
   "cell_type": "code",
   "execution_count": 3,
   "metadata": {},
   "outputs": [],
   "source": [
    "#check order information\n",
    "df_pr = pd.read_csv('C:/DS/Springboard/1st_capstone_project/order_products__prior/order_products__prior.csv')\n",
    "df_tr = pd.read_csv('C:/DS/Springboard/1st_capstone_project/order_products__train/order_products__train.csv')"
   ]
  },
  {
   "cell_type": "markdown",
   "metadata": {},
   "source": [
    "# Part 1: Data Wrangling "
   ]
  },
  {
   "cell_type": "code",
   "execution_count": 4,
   "metadata": {},
   "outputs": [],
   "source": [
    "ord_df = pd.read_csv('C:/DS/Springboard/1st_capstone_project/orders.csv')"
   ]
  },
  {
   "cell_type": "code",
   "execution_count": 5,
   "metadata": {},
   "outputs": [
    {
     "name": "stdout",
     "output_type": "stream",
     "text": [
      "<class 'pandas.core.frame.DataFrame'>\n",
      "RangeIndex: 3421083 entries, 0 to 3421082\n",
      "Data columns (total 7 columns):\n",
      "order_id                  int64\n",
      "user_id                   int64\n",
      "eval_set                  object\n",
      "order_number              int64\n",
      "order_dow                 int64\n",
      "order_hour_of_day         int64\n",
      "days_since_prior_order    float64\n",
      "dtypes: float64(1), int64(5), object(1)\n",
      "memory usage: 182.7+ MB\n"
     ]
    }
   ],
   "source": [
    "ord_df.info()"
   ]
  },
  {
   "cell_type": "code",
   "execution_count": 6,
   "metadata": {},
   "outputs": [
    {
     "data": {
      "text/plain": [
       "75000"
      ]
     },
     "execution_count": 6,
     "metadata": {},
     "output_type": "execute_result"
    }
   ],
   "source": [
    "len(ord_df[ord_df['eval_set']=='test'])"
   ]
  },
  {
   "cell_type": "code",
   "execution_count": 7,
   "metadata": {},
   "outputs": [
    {
     "name": "stdout",
     "output_type": "stream",
     "text": [
      "<class 'pandas.core.frame.DataFrame'>\n",
      "RangeIndex: 32434489 entries, 0 to 32434488\n",
      "Data columns (total 4 columns):\n",
      "order_id             int64\n",
      "product_id           int64\n",
      "add_to_cart_order    int64\n",
      "reordered            int64\n",
      "dtypes: int64(4)\n",
      "memory usage: 989.8 MB\n"
     ]
    }
   ],
   "source": [
    "df_pr.info()"
   ]
  },
  {
   "cell_type": "code",
   "execution_count": 8,
   "metadata": {},
   "outputs": [
    {
     "name": "stdout",
     "output_type": "stream",
     "text": [
      "<class 'pandas.core.frame.DataFrame'>\n",
      "RangeIndex: 49688 entries, 0 to 49687\n",
      "Data columns (total 4 columns):\n",
      "product_id       49688 non-null int64\n",
      "product_name     49688 non-null object\n",
      "aisle_id         49688 non-null int64\n",
      "department_id    49688 non-null int64\n",
      "dtypes: int64(3), object(1)\n",
      "memory usage: 1.5+ MB\n"
     ]
    }
   ],
   "source": [
    "products.info()"
   ]
  },
  {
   "cell_type": "code",
   "execution_count": 9,
   "metadata": {},
   "outputs": [
    {
     "name": "stdout",
     "output_type": "stream",
     "text": [
      "order_id             0\n",
      "product_id           0\n",
      "add_to_cart_order    0\n",
      "reordered            0\n",
      "dtype: int64\n",
      "order_id             0\n",
      "product_id           0\n",
      "add_to_cart_order    0\n",
      "reordered            0\n",
      "dtype: int64\n",
      "order_id                       0\n",
      "user_id                        0\n",
      "eval_set                       0\n",
      "order_number                   0\n",
      "order_dow                      0\n",
      "order_hour_of_day              0\n",
      "days_since_prior_order    206209\n",
      "dtype: int64\n"
     ]
    }
   ],
   "source": [
    "#check for missing value\n",
    "print(df_pr.isna().sum())\n",
    "print(df_tr.isna().sum())\n",
    "print(ord_df.isna().sum())"
   ]
  },
  {
   "cell_type": "code",
   "execution_count": 10,
   "metadata": {},
   "outputs": [
    {
     "data": {
      "text/html": [
       "<div>\n",
       "<style scoped>\n",
       "    .dataframe tbody tr th:only-of-type {\n",
       "        vertical-align: middle;\n",
       "    }\n",
       "\n",
       "    .dataframe tbody tr th {\n",
       "        vertical-align: top;\n",
       "    }\n",
       "\n",
       "    .dataframe thead th {\n",
       "        text-align: right;\n",
       "    }\n",
       "</style>\n",
       "<table border=\"1\" class=\"dataframe\">\n",
       "  <thead>\n",
       "    <tr style=\"text-align: right;\">\n",
       "      <th></th>\n",
       "      <th>order_id</th>\n",
       "      <th>user_id</th>\n",
       "      <th>eval_set</th>\n",
       "      <th>order_number</th>\n",
       "      <th>order_dow</th>\n",
       "      <th>order_hour_of_day</th>\n",
       "      <th>days_since_prior_order</th>\n",
       "    </tr>\n",
       "  </thead>\n",
       "  <tbody>\n",
       "    <tr>\n",
       "      <th>0</th>\n",
       "      <td>2539329</td>\n",
       "      <td>1</td>\n",
       "      <td>prior</td>\n",
       "      <td>1</td>\n",
       "      <td>2</td>\n",
       "      <td>8</td>\n",
       "      <td>NaN</td>\n",
       "    </tr>\n",
       "    <tr>\n",
       "      <th>1</th>\n",
       "      <td>2398795</td>\n",
       "      <td>1</td>\n",
       "      <td>prior</td>\n",
       "      <td>2</td>\n",
       "      <td>3</td>\n",
       "      <td>7</td>\n",
       "      <td>15.0</td>\n",
       "    </tr>\n",
       "    <tr>\n",
       "      <th>2</th>\n",
       "      <td>473747</td>\n",
       "      <td>1</td>\n",
       "      <td>prior</td>\n",
       "      <td>3</td>\n",
       "      <td>3</td>\n",
       "      <td>12</td>\n",
       "      <td>21.0</td>\n",
       "    </tr>\n",
       "    <tr>\n",
       "      <th>3</th>\n",
       "      <td>2254736</td>\n",
       "      <td>1</td>\n",
       "      <td>prior</td>\n",
       "      <td>4</td>\n",
       "      <td>4</td>\n",
       "      <td>7</td>\n",
       "      <td>29.0</td>\n",
       "    </tr>\n",
       "    <tr>\n",
       "      <th>4</th>\n",
       "      <td>431534</td>\n",
       "      <td>1</td>\n",
       "      <td>prior</td>\n",
       "      <td>5</td>\n",
       "      <td>4</td>\n",
       "      <td>15</td>\n",
       "      <td>28.0</td>\n",
       "    </tr>\n",
       "    <tr>\n",
       "      <th>5</th>\n",
       "      <td>3367565</td>\n",
       "      <td>1</td>\n",
       "      <td>prior</td>\n",
       "      <td>6</td>\n",
       "      <td>2</td>\n",
       "      <td>7</td>\n",
       "      <td>19.0</td>\n",
       "    </tr>\n",
       "    <tr>\n",
       "      <th>6</th>\n",
       "      <td>550135</td>\n",
       "      <td>1</td>\n",
       "      <td>prior</td>\n",
       "      <td>7</td>\n",
       "      <td>1</td>\n",
       "      <td>9</td>\n",
       "      <td>20.0</td>\n",
       "    </tr>\n",
       "    <tr>\n",
       "      <th>7</th>\n",
       "      <td>3108588</td>\n",
       "      <td>1</td>\n",
       "      <td>prior</td>\n",
       "      <td>8</td>\n",
       "      <td>1</td>\n",
       "      <td>14</td>\n",
       "      <td>14.0</td>\n",
       "    </tr>\n",
       "    <tr>\n",
       "      <th>8</th>\n",
       "      <td>2295261</td>\n",
       "      <td>1</td>\n",
       "      <td>prior</td>\n",
       "      <td>9</td>\n",
       "      <td>1</td>\n",
       "      <td>16</td>\n",
       "      <td>0.0</td>\n",
       "    </tr>\n",
       "    <tr>\n",
       "      <th>9</th>\n",
       "      <td>2550362</td>\n",
       "      <td>1</td>\n",
       "      <td>prior</td>\n",
       "      <td>10</td>\n",
       "      <td>4</td>\n",
       "      <td>8</td>\n",
       "      <td>30.0</td>\n",
       "    </tr>\n",
       "    <tr>\n",
       "      <th>10</th>\n",
       "      <td>1187899</td>\n",
       "      <td>1</td>\n",
       "      <td>train</td>\n",
       "      <td>11</td>\n",
       "      <td>4</td>\n",
       "      <td>8</td>\n",
       "      <td>14.0</td>\n",
       "    </tr>\n",
       "  </tbody>\n",
       "</table>\n",
       "</div>"
      ],
      "text/plain": [
       "    order_id  user_id eval_set  order_number  order_dow  order_hour_of_day  \\\n",
       "0    2539329        1    prior             1          2                  8   \n",
       "1    2398795        1    prior             2          3                  7   \n",
       "2     473747        1    prior             3          3                 12   \n",
       "3    2254736        1    prior             4          4                  7   \n",
       "4     431534        1    prior             5          4                 15   \n",
       "5    3367565        1    prior             6          2                  7   \n",
       "6     550135        1    prior             7          1                  9   \n",
       "7    3108588        1    prior             8          1                 14   \n",
       "8    2295261        1    prior             9          1                 16   \n",
       "9    2550362        1    prior            10          4                  8   \n",
       "10   1187899        1    train            11          4                  8   \n",
       "\n",
       "    days_since_prior_order  \n",
       "0                      NaN  \n",
       "1                     15.0  \n",
       "2                     21.0  \n",
       "3                     29.0  \n",
       "4                     28.0  \n",
       "5                     19.0  \n",
       "6                     20.0  \n",
       "7                     14.0  \n",
       "8                      0.0  \n",
       "9                     30.0  \n",
       "10                    14.0  "
      ]
     },
     "execution_count": 10,
     "metadata": {},
     "output_type": "execute_result"
    }
   ],
   "source": [
    "# check relationship between prior and train dataset\n",
    "ord_df[ord_df['user_id']==1]"
   ]
  },
  {
   "cell_type": "code",
   "execution_count": 11,
   "metadata": {},
   "outputs": [
    {
     "data": {
      "text/plain": [
       "206209"
      ]
     },
     "execution_count": 11,
     "metadata": {},
     "output_type": "execute_result"
    }
   ],
   "source": [
    "#check nan\n",
    "ord_df[\"days_since_prior_order\"].astype(float).isna().sum()"
   ]
  },
  {
   "cell_type": "code",
   "execution_count": 12,
   "metadata": {},
   "outputs": [
    {
     "data": {
      "text/plain": [
       "[3421083, 206209, 3, 100, 7, 24, 31]"
      ]
     },
     "execution_count": 12,
     "metadata": {},
     "output_type": "execute_result"
    }
   ],
   "source": [
    "#check unique values in each column\n",
    "uni_count = [ord_df[column].nunique() for column in ord_df]\n",
    "uni_count"
   ]
  },
  {
   "cell_type": "code",
   "execution_count": 13,
   "metadata": {},
   "outputs": [
    {
     "data": {
      "text/plain": [
       "eval_set\n",
       "prior    206209\n",
       "test      75000\n",
       "train    131209\n",
       "Name: user_id, dtype: int64"
      ]
     },
     "execution_count": 13,
     "metadata": {},
     "output_type": "execute_result"
    }
   ],
   "source": [
    "#check difference between prior, test and train\n",
    "#user id count\n",
    "ord_df.groupby('eval_set')['user_id'].nunique()"
   ]
  },
  {
   "cell_type": "code",
   "execution_count": 14,
   "metadata": {},
   "outputs": [
    {
     "name": "stderr",
     "output_type": "stream",
     "text": [
      "C:\\Users\\cfuth\\Anaconda3\\lib\\site-packages\\numpy\\core\\fromnumeric.py:52: FutureWarning: reshape is deprecated and will raise in a subsequent release. Please use .values.reshape(...) instead\n",
      "  return getattr(obj, method)(*args, **kwds)\n"
     ]
    },
    {
     "data": {
      "image/png": "[encoded data removed]",
      "text/plain": [
       "<matplotlib.figure.Figure at 0x2ac7b01d198>"
      ]
     },
     "metadata": {},
     "output_type": "display_data"
    }
   ],
   "source": [
    "#box plot to show whether there are outliners\n",
    "fig = plt.figure(figsize=(8,8))\n",
    "a = fig.add_subplot(221)\n",
    "plt.boxplot([ord_df[ord_df['eval_set']=='prior']['order_number'],ord_df[ord_df['eval_set']=='train']['order_number']])\n",
    "a.set_xticks([1,2])\n",
    "a.set_xticklabels(['prior','train'])\n",
    "a.set_title('order numbers')\n",
    "\n",
    "b = fig.add_subplot(222)\n",
    "plt.boxplot([ord_df[ord_df['eval_set']=='prior']['order_dow'],ord_df[ord_df['eval_set']=='train']['order_dow']])\n",
    "b.set_xticks([1,2])\n",
    "b.set_xticklabels(['prior','train'])\n",
    "b.set_title('day of week')\n",
    "\n",
    "c = fig.add_subplot(223)\n",
    "plt.boxplot([ord_df[ord_df['eval_set']=='prior']['order_hour_of_day'],ord_df[ord_df['eval_set']=='train']['order_hour_of_day']])\n",
    "c.set_xticks([1,2])\n",
    "c.set_xticklabels(['prior','train'])\n",
    "c.set_title('hour of day')\n",
    "\n",
    "d = fig.add_subplot(224)\n",
    "plt.boxplot([ord_df[ord_df['eval_set']=='prior']['days_since_prior_order'].dropna(),ord_df[ord_df['eval_set']=='train']['days_since_prior_order']])\n",
    "d.set_xticks([1,2])\n",
    "d.set_xticklabels(['prior','train'])\n",
    "d.set_title('days_since_prior_order')\n",
    "plt.show()"
   ]
  },
  {
   "cell_type": "markdown",
   "metadata": {},
   "source": [
    "# Findings: \n",
    "1. order.csv includes information on orders such as order id in database, order number for this user, user id, which set it belongs to (prior, test or training) and when it happens(day of week, order time of day, days since prior order)\n",
    "2. orders_products datasets store information on each order, including order id, product id, add to cart order and whether it is a reorder\n",
    "3. The only missing value in the datset is \"days since prior order\" for some orders in prior set since they are first time orders.\n",
    "4. There are no outliers found.\n",
    "5. Users in prior set are divided to training and test sets.\n",
    "6. For users in the training set, one order is hold out in the training set and the rest orders are in prior."
   ]
  },
  {
   "cell_type": "markdown",
   "metadata": {},
   "source": [
    "# Part 2: Exploratory Data Analysis"
   ]
  },
  {
   "cell_type": "code",
   "execution_count": 15,
   "metadata": {},
   "outputs": [],
   "source": [
    "import seaborn as sns\n",
    "color = sns.color_palette()\n"
   ]
  },
  {
   "cell_type": "code",
   "execution_count": 16,
   "metadata": {},
   "outputs": [
    {
     "data": {
      "image/png": "[encoded data removed]",
      "text/plain": [
       "<matplotlib.figure.Figure at 0x2ac4483f5f8>"
      ]
     },
     "metadata": {},
     "output_type": "display_data"
    }
   ],
   "source": [
    "#when users usually order\n",
    "sns.countplot(x='order_dow',data=ord_df,color=color[0])\n",
    "plt.xlabel('order day of week')\n",
    "plt.ylabel('order count')\n",
    "plt.show()"
   ]
  },
  {
   "cell_type": "markdown",
   "metadata": {},
   "source": [
    "<div class=\"alert alert-success\">\n",
    "- Day 0 and 1 have higher orders, they should be Saturday and Sunday. Wednesday has the lowest order counts.\n",
    "</div>"
   ]
  },
  {
   "cell_type": "code",
   "execution_count": 17,
   "metadata": {},
   "outputs": [
    {
     "data": {
      "image/png": "[encoded data removed]",
      "text/plain": [
       "<matplotlib.figure.Figure at 0x2ac406e1400>"
      ]
     },
     "metadata": {},
     "output_type": "display_data"
    }
   ],
   "source": [
    "# what time customers order\n",
    "sns.countplot(x=\"order_hour_of_day\", data=ord_df,color=color[0])\n",
    "plt.xlabel('order hour of day')\n",
    "plt.ylabel('order count')\n",
    "plt.xticks(rotation='vertical')\n",
    "plt.show()"
   ]
  },
  {
   "cell_type": "markdown",
   "metadata": {},
   "source": [
    "<div class=\"alert alert-success\">\n",
    "Most orders happen during daytime about 9 am - 4 pm\n",
    "</div>"
   ]
  },
  {
   "cell_type": "code",
   "execution_count": 18,
   "metadata": {},
   "outputs": [
    {
     "data": {
      "image/png": "[encoded data removed]",
      "text/plain": [
       "<matplotlib.figure.Figure at 0x2ac484fa048>"
      ]
     },
     "metadata": {},
     "output_type": "display_data"
    }
   ],
   "source": [
    "# frequency of customers ordering\n",
    "sns.countplot(x=\"days_since_prior_order\", data=ord_df,color=color[0])\n",
    "\n",
    "plt.xlabel('days since prior order')\n",
    "plt.ylabel('order count')\n",
    "plt.xticks(rotation='vertical')\n",
    "plt.show()"
   ]
  },
  {
   "cell_type": "markdown",
   "metadata": {},
   "source": [
    "<div class=\"alert alert-success\">\n",
    "Customers most likely order again after 30 days since prior order, followed by 7 days. \n",
    "</div>"
   ]
  },
  {
   "cell_type": "code",
   "execution_count": 19,
   "metadata": {},
   "outputs": [
    {
     "name": "stdout",
     "output_type": "stream",
     "text": [
      "percentage of reorder in prior set is: 0.5896974667922161\n",
      "percentage of reorder in test set is: 0.5985944127509629\n"
     ]
    }
   ],
   "source": [
    "# proportion of orders that are reorders\n",
    "pr_reord = df_pr['reordered'].sum()/len(df_pr)\n",
    "tr_reord = df_tr['reordered'].sum()/len(df_tr)\n",
    "print(\"percentage of reorder in prior set is:\",pr_reord)\n",
    "print(\"percentage of reorder in test set is:\",tr_reord)"
   ]
  },
  {
   "cell_type": "markdown",
   "metadata": {},
   "source": [
    "<div class=\"alert alert-success\">\n",
    "About 59% of the orders are reorder\n",
    "</div>"
   ]
  },
  {
   "cell_type": "code",
   "execution_count": 20,
   "metadata": {},
   "outputs": [
    {
     "data": {
      "image/png": "[encoded data removed]",
      "text/plain": [
       "<matplotlib.figure.Figure at 0x2ac449d1be0>"
      ]
     },
     "metadata": {},
     "output_type": "display_data"
    }
   ],
   "source": [
    "# how many orders customer make\n",
    "pr_no = ord_df.groupby('user_id')['order_number'].max().reset_index(name='orders_total')\n",
    "plt.figure(figsize=(12,8))\n",
    "sns.countplot(x=\"orders_total\", data=pr_no,color=color[0])\n",
    "plt.xlabel('order number')\n",
    "plt.ylabel('order count')\n",
    "plt.xticks(rotation='vertical')\n",
    "plt.show()"
   ]
  },
  {
   "cell_type": "markdown",
   "metadata": {},
   "source": [
    "<div class=\"alert alert-success\">\n",
    "Customers make at least 4 orders and at most 100 orders. \n",
    "</div>"
   ]
  },
  {
   "cell_type": "code",
   "execution_count": 21,
   "metadata": {},
   "outputs": [],
   "source": [
    "department = pd.read_csv('C:/DS/Springboard/1st_capstone_project/departments/departments.csv')\n",
    "aisle = pd.read_csv('C:/DS/Springboard/1st_capstone_project/aisles/aisles.csv')"
   ]
  },
  {
   "cell_type": "code",
   "execution_count": 22,
   "metadata": {},
   "outputs": [
    {
     "data": {
      "text/html": [
       "<div>\n",
       "<style scoped>\n",
       "    .dataframe tbody tr th:only-of-type {\n",
       "        vertical-align: middle;\n",
       "    }\n",
       "\n",
       "    .dataframe tbody tr th {\n",
       "        vertical-align: top;\n",
       "    }\n",
       "\n",
       "    .dataframe thead th {\n",
       "        text-align: right;\n",
       "    }\n",
       "</style>\n",
       "<table border=\"1\" class=\"dataframe\">\n",
       "  <thead>\n",
       "    <tr style=\"text-align: right;\">\n",
       "      <th></th>\n",
       "      <th>order_id</th>\n",
       "      <th>product_id</th>\n",
       "      <th>add_to_cart_order</th>\n",
       "      <th>reordered</th>\n",
       "      <th>user_id</th>\n",
       "      <th>eval_set</th>\n",
       "      <th>order_number</th>\n",
       "      <th>order_dow</th>\n",
       "      <th>order_hour_of_day</th>\n",
       "      <th>days_since_prior_order</th>\n",
       "      <th>product_name</th>\n",
       "      <th>aisle_id</th>\n",
       "      <th>department_id</th>\n",
       "    </tr>\n",
       "  </thead>\n",
       "  <tbody>\n",
       "    <tr>\n",
       "      <th>0</th>\n",
       "      <td>2</td>\n",
       "      <td>33120</td>\n",
       "      <td>1</td>\n",
       "      <td>1</td>\n",
       "      <td>202279</td>\n",
       "      <td>prior</td>\n",
       "      <td>3</td>\n",
       "      <td>5</td>\n",
       "      <td>9</td>\n",
       "      <td>8.0</td>\n",
       "      <td>Organic Egg Whites</td>\n",
       "      <td>86</td>\n",
       "      <td>16</td>\n",
       "    </tr>\n",
       "    <tr>\n",
       "      <th>1</th>\n",
       "      <td>2</td>\n",
       "      <td>28985</td>\n",
       "      <td>2</td>\n",
       "      <td>1</td>\n",
       "      <td>202279</td>\n",
       "      <td>prior</td>\n",
       "      <td>3</td>\n",
       "      <td>5</td>\n",
       "      <td>9</td>\n",
       "      <td>8.0</td>\n",
       "      <td>Michigan Organic Kale</td>\n",
       "      <td>83</td>\n",
       "      <td>4</td>\n",
       "    </tr>\n",
       "    <tr>\n",
       "      <th>2</th>\n",
       "      <td>2</td>\n",
       "      <td>9327</td>\n",
       "      <td>3</td>\n",
       "      <td>0</td>\n",
       "      <td>202279</td>\n",
       "      <td>prior</td>\n",
       "      <td>3</td>\n",
       "      <td>5</td>\n",
       "      <td>9</td>\n",
       "      <td>8.0</td>\n",
       "      <td>Garlic Powder</td>\n",
       "      <td>104</td>\n",
       "      <td>13</td>\n",
       "    </tr>\n",
       "    <tr>\n",
       "      <th>3</th>\n",
       "      <td>2</td>\n",
       "      <td>45918</td>\n",
       "      <td>4</td>\n",
       "      <td>1</td>\n",
       "      <td>202279</td>\n",
       "      <td>prior</td>\n",
       "      <td>3</td>\n",
       "      <td>5</td>\n",
       "      <td>9</td>\n",
       "      <td>8.0</td>\n",
       "      <td>Coconut Butter</td>\n",
       "      <td>19</td>\n",
       "      <td>13</td>\n",
       "    </tr>\n",
       "    <tr>\n",
       "      <th>4</th>\n",
       "      <td>2</td>\n",
       "      <td>30035</td>\n",
       "      <td>5</td>\n",
       "      <td>0</td>\n",
       "      <td>202279</td>\n",
       "      <td>prior</td>\n",
       "      <td>3</td>\n",
       "      <td>5</td>\n",
       "      <td>9</td>\n",
       "      <td>8.0</td>\n",
       "      <td>Natural Sweetener</td>\n",
       "      <td>17</td>\n",
       "      <td>13</td>\n",
       "    </tr>\n",
       "  </tbody>\n",
       "</table>\n",
       "</div>"
      ],
      "text/plain": [
       "   order_id  product_id  add_to_cart_order  reordered  user_id eval_set  \\\n",
       "0         2       33120                  1          1   202279    prior   \n",
       "1         2       28985                  2          1   202279    prior   \n",
       "2         2        9327                  3          0   202279    prior   \n",
       "3         2       45918                  4          1   202279    prior   \n",
       "4         2       30035                  5          0   202279    prior   \n",
       "\n",
       "   order_number  order_dow  order_hour_of_day  days_since_prior_order  \\\n",
       "0             3          5                  9                     8.0   \n",
       "1             3          5                  9                     8.0   \n",
       "2             3          5                  9                     8.0   \n",
       "3             3          5                  9                     8.0   \n",
       "4             3          5                  9                     8.0   \n",
       "\n",
       "            product_name  aisle_id  department_id  \n",
       "0     Organic Egg Whites        86             16  \n",
       "1  Michigan Organic Kale        83              4  \n",
       "2          Garlic Powder       104             13  \n",
       "3         Coconut Butter        19             13  \n",
       "4      Natural Sweetener        17             13  "
      ]
     },
     "execution_count": 22,
     "metadata": {},
     "output_type": "execute_result"
    }
   ],
   "source": [
    "#dataframe for prior set with all order related info\n",
    "pr_ord = pd.merge(df_pr,ord_df,on='order_id',how='left')\n",
    "pr_ord = pd.merge(pr_ord,products,on='product_id',how='left')\n",
    "\n",
    "pr_ord.head()"
   ]
  },
  {
   "cell_type": "code",
   "execution_count": 23,
   "metadata": {},
   "outputs": [
    {
     "name": "stdout",
     "output_type": "stream",
     "text": [
      "                    index   count\n",
      "0                  Banana  472565\n",
      "1  Bag of Organic Bananas  379450\n",
      "2    Organic Strawberries  264683\n",
      "3    Organic Baby Spinach  241921\n",
      "4    Organic Hass Avocado  213584\n"
     ]
    },
    {
     "data": {
      "image/png": "[encoded data removed]",
      "text/plain": [
       "<matplotlib.figure.Figure at 0x2ac48ccb978>"
      ]
     },
     "metadata": {},
     "output_type": "display_data"
    }
   ],
   "source": [
    "#check what products are ordered the most \n",
    "product_count_pr = pr_ord['product_name'].value_counts().reset_index(name=\"count\")\n",
    "print(product_count_pr.head())\n",
    "\n",
    "fig = plt.figure(figsize=(10,6))\n",
    "\n",
    "sns.barplot(x='index',y='count',data=product_count_pr.iloc[0:20,:],color='g',alpha=0.5)\n",
    "plt.xlabel('product name')\n",
    "plt.xticks(rotation='vertical')\n",
    "plt.ylabel('order counts')\n",
    "\n",
    "plt.show()"
   ]
  },
  {
   "cell_type": "markdown",
   "metadata": {},
   "source": [
    "<div class=\"alert alert-success\">\n",
    "Most ordered products are fresh fruits and vegetables. \n",
    "</div>"
   ]
  },
  {
   "cell_type": "code",
   "execution_count": 24,
   "metadata": {},
   "outputs": [
    {
     "name": "stdout",
     "output_type": "stream",
     "text": [
      "                                   product_name  reorder_ratio\n",
      "37375                       Raw Veggie Wrappers       0.941176\n",
      "39866  Serenity Ultimate Extrema Overnight Pads       0.931034\n",
      "28412                       Orange Energy Shots       0.923077\n",
      "8535                         Chocolate Love Bar       0.920792\n",
      "41719                 Soy Powder Infant Formula       0.914286\n"
     ]
    },
    {
     "data": {
      "image/png": "[encoded data removed]",
      "text/plain": [
       "<matplotlib.figure.Figure at 0x2ac484fa2b0>"
      ]
     },
     "metadata": {},
     "output_type": "display_data"
    }
   ],
   "source": [
    "#products having highest reorder ratio\n",
    "product_pr_reo = pr_ord.groupby('product_name')['reordered'].mean().reset_index(name='reorder_ratio').sort_values('reorder_ratio',ascending=False)\n",
    "print(product_pr_reo.head())\n",
    "\n",
    "fig = plt.figure(figsize=(10,6))\n",
    "\n",
    "sns.barplot(x='product_name',y='reorder_ratio',data=product_pr_reo.iloc[0:20,:],color='g',alpha=0.5)\n",
    "plt.xlabel('product name')\n",
    "plt.xticks(rotation='vertical')\n",
    "plt.ylabel('reorder ratio')\n",
    "plt.show()\n"
   ]
  },
  {
   "cell_type": "markdown",
   "metadata": {},
   "source": [
    "<div class=\"alert alert-success\">\n",
    "Products with high reorder ratio are those items whose buyers are \"loyal\" or have high preference to them. As seen from the plot above, most of the products with highest reorder ratio are kind of snacks, not daily necessaries. \n",
    "</div>"
   ]
  },
  {
   "cell_type": "code",
   "execution_count": 25,
   "metadata": {},
   "outputs": [
    {
     "data": {
      "image/png": "[encoded data removed]",
      "text/plain": [
       "<matplotlib.figure.Figure at 0x2ac40220630>"
      ]
     },
     "metadata": {},
     "output_type": "display_data"
    }
   ],
   "source": [
    "#check relationship between reorder times and add to cart order\n",
    "df_pr_gp = df_pr.groupby('add_to_cart_order')['reordered'].sum()\n",
    "df_pr_gp = df_pr_gp.reset_index()\n",
    "df_pr_gp.columns = ['add_to_cart_order','reorder_sum']\n",
    "\n",
    "df_tr_gp = df_tr.groupby('add_to_cart_order')['reordered'].sum()\n",
    "df_tr_gp = df_tr_gp.reset_index()\n",
    "df_tr_gp.columns = ['add_to_cart_order','reorder_sum']\n",
    "#df_pr_gp.head()\n",
    "fig = plt.figure(figsize=(10,4))\n",
    "a = fig.add_subplot(121)\n",
    "plt.scatter(df_pr_gp['add_to_cart_order'],df_pr_gp['reorder_sum'])\n",
    "a.set_xlabel('add to cart order',fontsize=11)\n",
    "a.set_ylabel('reorders',fontsize=11)\n",
    "a.set_title('prior')\n",
    "\n",
    "b = fig.add_subplot(122)\n",
    "plt.scatter(df_tr_gp['add_to_cart_order'],df_tr_gp['reorder_sum'])\n",
    "b.set_xlabel('add to cart order',fontsize=11)\n",
    "b.set_title('train')\n",
    "\n",
    "plt.show()"
   ]
  },
  {
   "cell_type": "markdown",
   "metadata": {},
   "source": [
    "<div class=\"alert alert-success\">\n",
    "There is a clear nonlinear pattern between reorder counts and add to cart orders. The products adding to cart first are reordered the most.\n",
    "</div>"
   ]
  },
  {
   "cell_type": "markdown",
   "metadata": {},
   "source": [
    "# What aisles and deparments have most reorders"
   ]
  },
  {
   "cell_type": "code",
   "execution_count": 26,
   "metadata": {},
   "outputs": [
    {
     "name": "stdout",
     "output_type": "stream",
     "text": [
      "    department_id  reorder_sum\n",
      "3               4      6160710\n",
      "15             16      3627221\n",
      "6               7      1757892\n",
      "     aisle_id  reorder_sum\n",
      "23         24      2615469\n",
      "82         83      2032172\n",
      "122       123      1127177\n"
     ]
    },
    {
     "data": {
      "image/png": "[encoded data removed]",
      "text/plain": [
       "<matplotlib.figure.Figure at 0x2ac449eb5c0>"
      ]
     },
     "metadata": {},
     "output_type": "display_data"
    }
   ],
   "source": [
    "pr_dep = pr_ord.groupby('department_id')['reordered'].sum().reset_index(name='reorder_sum').sort_values('reorder_sum',ascending=False)\n",
    "pr_ais = pr_ord.groupby('aisle_id')['reordered'].sum().reset_index(name='reorder_sum').sort_values('reorder_sum',ascending=False)\n",
    "print(pr_dep.head(3))\n",
    "print(pr_ais.head(3))\n",
    "pr_dep = pr_dep.merge(department,on='department_id')\n",
    "pr_ais = pr_ais.merge(aisle,on='aisle_id')\n",
    "\n",
    "x = np.arange(0,10,1)\n",
    "fig = plt.figure(figsize=(10,4))\n",
    "a = fig.add_subplot(121)\n",
    "sns.barplot(x='aisle',y='reorder_sum',data=pr_ais.iloc[0:10,:],color='g')\n",
    "a.set_title('Top 10 Aisles in Reorders',fontsize=12)\n",
    "a.set_ylabel('reorders')\n",
    "plt.xticks(rotation=90)\n",
    "\n",
    "\n",
    "b = fig.add_subplot(122)\n",
    "sns.barplot(x='department',y='reorder_sum',data=pr_dep.iloc[0:10,:],color='b')\n",
    "b.set_title('Top 10 Departments in Reorders',fontsize=12)\n",
    "b.set_ylabel('')\n",
    "plt.xticks(rotation=90)\n",
    "\n",
    "\n",
    "plt.show()"
   ]
  },
  {
   "cell_type": "markdown",
   "metadata": {},
   "source": [
    "<div class=\"alert alert-success\">\n",
    "The most reordered aisles are fresh fruits and vegetables. The most reordered departments are produce and dairy eggs.\n",
    "</div>"
   ]
  },
  {
   "cell_type": "markdown",
   "metadata": {},
   "source": [
    "# department reorder ratio"
   ]
  },
  {
   "cell_type": "code",
   "execution_count": 27,
   "metadata": {},
   "outputs": [
    {
     "data": {
      "image/png": "[encoded data removed]",
      "text/plain": [
       "<matplotlib.figure.Figure at 0x2ac488ed400>"
      ]
     },
     "metadata": {},
     "output_type": "display_data"
    }
   ],
   "source": [
    "dep_reo = pr_ord.groupby('department_id')['reordered'].mean().reset_index(name='reorder_ratio').sort_values('reorder_ratio',ascending=False)\n",
    "dep_reo = dep_reo.merge(department,on='department_id')\n",
    "sns.barplot(x='department',y='reorder_ratio',data=dep_reo,color='g',alpha=0.5)\n",
    "plt.xticks(rotation=90)\n",
    "plt.ylabel('reorder ratio')\n",
    "plt.show()"
   ]
  },
  {
   "cell_type": "markdown",
   "metadata": {},
   "source": [
    "<div class=\"alert alert-success\">\n",
    "Reorder ratio is high in dairy eggs, beverages, and produce and lowest in personal care.\n",
    "</div>"
   ]
  },
  {
   "cell_type": "markdown",
   "metadata": {},
   "source": [
    "# customer reorder habits"
   ]
  },
  {
   "cell_type": "code",
   "execution_count": 28,
   "metadata": {},
   "outputs": [
    {
     "name": "stdout",
     "output_type": "stream",
     "text": [
      "   user_id  reorder_ratio\n",
      "0        1       0.759259\n",
      "1        2       0.510989\n",
      "2        3       0.705128\n",
      "3        4       0.071429\n",
      "4        5       0.538462\n",
      "There are 971 customers always reorder what they buy before\n",
      "There are 3045 customers never reorder what they buy before\n"
     ]
    }
   ],
   "source": [
    "pr_ord = pr_ord.dropna()  #remove rows of first time orders\n",
    "pr_reorder = pr_ord.groupby('user_id')['reordered'].mean()\n",
    "pr_reorder = pr_reorder.reset_index()\n",
    "pr_reorder.columns = ['user_id','reorder_ratio']\n",
    "print(pr_reorder.head())\n",
    "user_1 = len(pr_reorder[pr_reorder['reorder_ratio'] == 1])\n",
    "user_0 = len(pr_reorder[pr_reorder['reorder_ratio'] == 0])\n",
    "print(\"There are\",user_1,\"customers always reorder what they buy before\")\n",
    "print(\"There are\",user_0,\"customers never reorder what they buy before\")"
   ]
  },
  {
   "cell_type": "markdown",
   "metadata": {},
   "source": [
    "<div class=\"alert alert-success\">\n",
    "There are 971 customers always reorder what they buy before.  \n",
    "There are 3045 customers never reorder what they buy before\n",
    "</div>"
   ]
  },
  {
   "cell_type": "markdown",
   "metadata": {},
   "source": [
    "# Part 3: Feature selection\n"
   ]
  },
  {
   "cell_type": "code",
   "execution_count": 29,
   "metadata": {},
   "outputs": [
    {
     "name": "stdout",
     "output_type": "stream",
     "text": [
      "     order_id  user_id eval_set  order_number  order_dow  order_hour_of_day  \\\n",
      "38    2774568        3     test            13          5                 15   \n",
      "44     329954        4     test             6          3                 12   \n",
      "53    1528013        6     test             4          3                 16   \n",
      "96    1376945       11     test             8          6                 11   \n",
      "102   1356845       12     test             6          1                 20   \n",
      "\n",
      "     days_since_prior_order  \n",
      "38                     11.0  \n",
      "44                     30.0  \n",
      "53                     22.0  \n",
      "96                      8.0  \n",
      "102                    30.0  \n"
     ]
    }
   ],
   "source": [
    "ord_test = ord_df[ord_df['eval_set']=='test']\n",
    "print(ord_test.head())"
   ]
  },
  {
   "cell_type": "markdown",
   "metadata": {},
   "source": [
    "<div class=\"alert alert-success\">\n",
    "Based on the data availability in test dataset, choose 6 features as independent variables in the first round:  \n",
    "product_id  \n",
    "user_id  \n",
    "order_number  \n",
    "order_dow  \n",
    "order_hour_of_day  \n",
    "days_since_prior_order\n",
    "</div>"
   ]
  },
  {
   "cell_type": "code",
   "execution_count": 30,
   "metadata": {},
   "outputs": [],
   "source": [
    "# check for correlation \n",
    "column_list = ['product_id','user_id','order_number', 'order_dow', 'order_hour_of_day','days_since_prior_order','reordered']\n",
    "pr_cor = pr_ord[column_list].corr()\n"
   ]
  },
  {
   "cell_type": "code",
   "execution_count": 31,
   "metadata": {},
   "outputs": [
    {
     "name": "stdout",
     "output_type": "stream",
     "text": [
      "                        product_id   user_id  order_number  order_dow  \\\n",
      "product_id                1.000000  0.000124     -0.001904  -0.002254   \n",
      "user_id                   0.000124  1.000000     -0.000763  -0.001936   \n",
      "order_number             -0.001904 -0.000763      1.000000   0.015291   \n",
      "order_dow                -0.002254 -0.001936      0.015291   1.000000   \n",
      "order_hour_of_day         0.000976 -0.000865     -0.039478   0.012708   \n",
      "days_since_prior_order    0.000800  0.000556     -0.358422  -0.030002   \n",
      "reordered                 0.004243 -0.000866      0.250973  -0.008801   \n",
      "\n",
      "                        order_hour_of_day  days_since_prior_order  reordered  \n",
      "product_id                       0.000976                0.000800   0.004243  \n",
      "user_id                         -0.000865                0.000556  -0.000866  \n",
      "order_number                    -0.039478               -0.358422   0.250973  \n",
      "order_dow                        0.012708               -0.030002  -0.008801  \n",
      "order_hour_of_day                1.000000                0.003878  -0.021142  \n",
      "days_since_prior_order           0.003878                1.000000  -0.132814  \n",
      "reordered                       -0.021142               -0.132814   1.000000  \n"
     ]
    },
    {
     "data": {
      "image/png": "[encoded data removed]",
      "text/plain": [
       "<matplotlib.figure.Figure at 0x2ac44ac74a8>"
      ]
     },
     "metadata": {},
     "output_type": "display_data"
    }
   ],
   "source": [
    "print(pr_cor)\n",
    "sns.heatmap(pr_cor,vmin=-1,vmax=1,cmap='RdBu_r')\n",
    "plt.show()"
   ]
  },
  {
   "cell_type": "markdown",
   "metadata": {},
   "source": [
    "<div class=\"alert alert-success\">\n",
    "Among the 6 selected features, no significant correlation is found between these features except \"days since prior order\" negatively correlate with \"order number\" with a pearson correlation coefficient of -0.35. Order number positively correlates with reordering. \n",
    "</div>"
   ]
  },
  {
   "cell_type": "markdown",
   "metadata": {},
   "source": [
    "# Part 4: Model"
   ]
  },
  {
   "cell_type": "code",
   "execution_count": 32,
   "metadata": {},
   "outputs": [],
   "source": [
    "# use prior dataset to fit and get user level parameters\n",
    "feature_list = ['product_id','user_id','order_number', 'order_dow', 'order_hour_of_day','days_since_prior_order']\n",
    "X_prior = pr_ord[feature_list]\n",
    "y_prior = pr_ord['reordered']\n",
    "\n",
    "# use train dataset to evaluate model performance\n",
    "tr_ord = pd.merge(df_tr,ord_df,on='order_id',how='left')\n",
    "X_train = tr_ord[feature_list]\n",
    "y_train = tr_ord['reordered']"
   ]
  },
  {
   "cell_type": "code",
   "execution_count": 33,
   "metadata": {},
   "outputs": [],
   "source": [
    "from sklearn.linear_model import LogisticRegression\n",
    "from sklearn.metrics import accuracy_score\n",
    "from sklearn.metrics import f1_score\n",
    "from sklearn.pipeline import make_pipeline\n",
    "from sklearn.preprocessing import StandardScaler"
   ]
  },
  {
   "cell_type": "markdown",
   "metadata": {},
   "source": [
    "**Pipeline includes two steps: scaling and modeling**"
   ]
  },
  {
   "cell_type": "code",
   "execution_count": 112,
   "metadata": {},
   "outputs": [],
   "source": [
    "scaler = StandardScaler()\n",
    "model = LogisticRegression(random_state=12)\n",
    "pipeline = make_pipeline(scaler,model)"
   ]
  },
  {
   "cell_type": "code",
   "execution_count": 113,
   "metadata": {},
   "outputs": [
    {
     "name": "stdout",
     "output_type": "stream",
     "text": [
      "accuracy score on prior set is: 0.6586202635679614\n",
      "f1 score on prior set is: 0.7751364735720666\n",
      "accuracy score on train set is: 0.629228154789375\n",
      "f1 score on train set is: 0.7432649025798183\n"
     ]
    }
   ],
   "source": [
    "#model fit\n",
    "pipeline.fit(X_prior,y_prior)\n",
    "y_pr_pre = pipeline.predict(X_prior)\n",
    "y_tr_pre = pipeline.predict(X_train)\n",
    "print(\"accuracy score on prior set is:\",accuracy_score(y_prior,y_pr_pre))\n",
    "print(\"f1 score on prior set is:\",f1_score(y_prior,y_pr_pre))\n",
    "print(\"accuracy score on train set is:\",accuracy_score(y_train,y_tr_pre))\n",
    "print(\"f1 score on train set is:\",f1_score(y_train,y_tr_pre))"
   ]
  },
  {
   "cell_type": "markdown",
   "metadata": {},
   "source": [
    "<div class=\"alert alert-success\">\n",
    "Logistic Regression and 6 predicting variables     (product_id,user_id,order_day_of_week,order_hour_of_day,days_since_prior_order,order_number) yield reasonable resutls:     \n",
    "accuracy score on prior set is: 0.6586202635679614  \n",
    "f1 score on prior set is: 0.7751364735720666  \n",
    "accuracy score on train set is: 0.629228154789375  \n",
    "f1 score on train set is: 0.7432649025798183\n",
    "</div>"
   ]
  },
  {
   "cell_type": "code",
   "execution_count": 114,
   "metadata": {},
   "outputs": [
    {
     "name": "stdout",
     "output_type": "stream",
     "text": [
      "   user_id  product_id\n",
      "0   202279       33120\n",
      "1   202279       28985\n",
      "2   202279        9327\n",
      "3   202279       45918\n",
      "4   202279       30035\n",
      "   user_id  product_id  order_id eval_set  order_number  order_dow  \\\n",
      "0    45082       17330     65432     test            11          4   \n",
      "1    45082       27407     65432     test            11          4   \n",
      "2    45082       35419     65432     test            11          4   \n",
      "3    45082         196     65432     test            11          4   \n",
      "4    45082       44635     65432     test            11          4   \n",
      "\n",
      "   order_hour_of_day  days_since_prior_order  \n",
      "0                 12                    15.0  \n",
      "1                 12                    15.0  \n",
      "2                 12                    15.0  \n",
      "3                 12                    15.0  \n",
      "4                 12                    15.0  \n"
     ]
    }
   ],
   "source": [
    "# construct array for test\n",
    "\n",
    "# products users in test set ordered before\n",
    "pr_ord_sel = pd.merge(df_pr[['order_id','product_id']],ord_df[['order_id','user_id']],on='order_id',how='left')\n",
    "pr_ord_uni = pr_ord_sel[['user_id','product_id']].drop_duplicates()\n",
    "print(pr_ord_uni.head())\n",
    "# combine product info with test order info\n",
    "pro_test = pd.merge(pr_ord_uni,ord_test,on='user_id',how='inner')\n",
    "print(pro_test.head())"
   ]
  },
  {
   "cell_type": "code",
   "execution_count": 115,
   "metadata": {},
   "outputs": [
    {
     "name": "stdout",
     "output_type": "stream",
     "text": [
      "<class 'pandas.core.frame.DataFrame'>\n",
      "Int64Index: 75000 entries, 38 to 3421068\n",
      "Data columns (total 7 columns):\n",
      "order_id                  75000 non-null int64\n",
      "user_id                   75000 non-null int64\n",
      "eval_set                  75000 non-null object\n",
      "order_number              75000 non-null int64\n",
      "order_dow                 75000 non-null int64\n",
      "order_hour_of_day         75000 non-null int64\n",
      "days_since_prior_order    75000 non-null float64\n",
      "dtypes: float64(1), int64(5), object(1)\n",
      "memory usage: 4.6+ MB\n",
      "None\n",
      "<class 'pandas.core.frame.DataFrame'>\n",
      "Int64Index: 4833292 entries, 0 to 4833291\n",
      "Data columns (total 8 columns):\n",
      "user_id                   int64\n",
      "product_id                int64\n",
      "order_id                  int64\n",
      "eval_set                  object\n",
      "order_number              int64\n",
      "order_dow                 int64\n",
      "order_hour_of_day         int64\n",
      "days_since_prior_order    float64\n",
      "dtypes: float64(1), int64(6), object(1)\n",
      "memory usage: 331.9+ MB\n",
      "None\n",
      "user_id                   0\n",
      "product_id                0\n",
      "order_id                  0\n",
      "eval_set                  0\n",
      "order_number              0\n",
      "order_dow                 0\n",
      "order_hour_of_day         0\n",
      "days_since_prior_order    0\n",
      "dtype: int64\n"
     ]
    }
   ],
   "source": [
    "print(ord_test.info())\n",
    "print(pro_test.info())\n",
    "print(pro_test.isna().sum())"
   ]
  },
  {
   "cell_type": "markdown",
   "metadata": {},
   "source": [
    "# Predict on test set"
   ]
  },
  {
   "cell_type": "code",
   "execution_count": 116,
   "metadata": {},
   "outputs": [],
   "source": [
    "X_test = pro_test[feature_list]\n",
    "y_test_pre = pipeline.predict(X_test)"
   ]
  },
  {
   "cell_type": "code",
   "execution_count": 124,
   "metadata": {},
   "outputs": [
    {
     "name": "stdout",
     "output_type": "stream",
     "text": [
      "   reorder\n",
      "0        1\n",
      "1        1\n",
      "2        1\n",
      "3        1\n",
      "4        1\n",
      "4833292\n",
      "   user_id  order_id  product_id  reorder\n",
      "0    45082     65432       17330        1\n",
      "1    45082     65432       27407        1\n",
      "2    45082     65432       35419        1\n",
      "3    45082     65432         196        1\n",
      "4    45082     65432       44635        1\n",
      "<class 'pandas.core.frame.DataFrame'>\n",
      "Int64Index: 4833292 entries, 0 to 4833291\n",
      "Data columns (total 4 columns):\n",
      "user_id       int64\n",
      "order_id      int64\n",
      "product_id    int64\n",
      "reorder       int64\n",
      "dtypes: int64(4)\n",
      "memory usage: 184.4 MB\n",
      "None\n"
     ]
    }
   ],
   "source": [
    "# convert predicted results to required format\n",
    "df_test = pd.DataFrame(y_test_pre)\n",
    "df_test.columns = ['reorder']\n",
    "print(df_test.head())\n",
    "print(len(df_test))\n",
    "result = pd.concat([pro_test[['user_id','order_id','product_id']],df_test],axis=1)\n",
    "print(result.head())\n",
    "print(result.info())"
   ]
  },
  {
   "cell_type": "code",
   "execution_count": 125,
   "metadata": {},
   "outputs": [
    {
     "name": "stdout",
     "output_type": "stream",
     "text": [
      "order_id\n",
      "17     [21709, 13107, 38777, 48896, 1283, 13535, 4776...\n",
      "34     [46979, 9337, 9839, 44910, 44663, 48523, 2596,...\n",
      "137    [38689, 24852, 41787, 43352, 23794, 48845, 311...\n",
      "182    [33198, 27344, 18011, 49235, 23645, 47209, 136...\n",
      "257    [38558, 24852, 15438, 49235, 4605, 30233, 1245...\n",
      "Name: product_id, dtype: object\n"
     ]
    }
   ],
   "source": [
    "result_reorder = result[result['reorder']==1][['order_id','product_id']]\n",
    "result_reorder = result_reorder.groupby('order_id')['product_id'].unique()\n",
    "print(result_reorder.head())\n",
    "result_reorder.to_csv('C:/DS/Springboard/1st_capstone_project/submission.csv')"
   ]
  },
  {
   "cell_type": "markdown",
   "metadata": {},
   "source": [
    "# Part 5: Result Analysis"
   ]
  },
  {
   "cell_type": "markdown",
   "metadata": {},
   "source": [
    "# Random Forest"
   ]
  },
  {
   "cell_type": "code",
   "execution_count": 34,
   "metadata": {},
   "outputs": [],
   "source": [
    "from sklearn.ensemble import RandomForestClassifier"
   ]
  },
  {
   "cell_type": "code",
   "execution_count": 35,
   "metadata": {},
   "outputs": [],
   "source": [
    "scaler = StandardScaler()\n",
    "model = RandomForestClassifier(n_estimators=10,random_state=12)\n",
    "pipeline = make_pipeline(scaler,model)"
   ]
  },
  {
   "cell_type": "code",
   "execution_count": 36,
   "metadata": {},
   "outputs": [
    {
     "name": "stdout",
     "output_type": "stream",
     "text": [
      "accuracy score on prior set is: 0.9833177633160378\n",
      "f1 score on prior set is: 0.986714445861668\n",
      "accuracy score on train set is: 0.5994126895740843\n",
      "f1 score on train set is: 0.6796417180805533\n"
     ]
    }
   ],
   "source": [
    "#model fit\n",
    "pipeline.fit(X_prior,y_prior)\n",
    "y_pr_pre = pipeline.predict(X_prior)\n",
    "y_tr_pre = pipeline.predict(X_train)\n",
    "print(\"accuracy score on prior set is:\",accuracy_score(y_prior,y_pr_pre))\n",
    "print(\"f1 score on prior set is:\",f1_score(y_prior,y_pr_pre))\n",
    "print(\"accuracy score on train set is:\",accuracy_score(y_train,y_tr_pre))\n",
    "print(\"f1 score on train set is:\",f1_score(y_train,y_tr_pre))"
   ]
  },
  {
   "cell_type": "markdown",
   "metadata": {},
   "source": [
    "<div class=\"alert alert-success\">\n",
    "Since the fitting result on prior set is much better than the result on train set, Random Forest overfits \n",
    "</div>"
   ]
  },
  {
   "cell_type": "markdown",
   "metadata": {},
   "source": [
    "# KNN"
   ]
  },
  {
   "cell_type": "code",
   "execution_count": 37,
   "metadata": {},
   "outputs": [],
   "source": [
    "from sklearn.neighbors import KNeighborsClassifier"
   ]
  },
  {
   "cell_type": "code",
   "execution_count": 39,
   "metadata": {},
   "outputs": [],
   "source": [
    "scaler = StandardScaler()\n",
    "model = KNeighborsClassifier()\n",
    "pipeline = make_pipeline(scaler,model)"
   ]
  },
  {
   "cell_type": "code",
   "execution_count": null,
   "metadata": {},
   "outputs": [],
   "source": [
    "#model fit\n",
    "pipeline.fit(X_prior,y_prior)\n",
    "y_pr_pre = pipeline.predict(X_prior)\n",
    "y_tr_pre = pipeline.predict(X_train)\n",
    "print(\"accuracy score on prior set is:\",accuracy_score(y_prior,y_pr_pre))\n",
    "print(\"f1 score on prior set is:\",f1_score(y_prior,y_pr_pre))\n",
    "print(\"accuracy score on train set is:\",accuracy_score(y_train,y_tr_pre))\n",
    "print(\"f1 score on train set is:\",f1_score(y_train,y_tr_pre))"
   ]
  },
  {
   "cell_type": "code",
   "execution_count": null,
   "metadata": {},
   "outputs": [],
   "source": []
  }
 ],
 "metadata": {
  "kernelspec": {
   "display_name": "Python 3",
   "language": "python",
   "name": "python3"
  },
  "language_info": {
   "codemirror_mode": {
    "name": "ipython",
    "version": 3
   },
   "file_extension": ".py",
   "mimetype": "text/x-python",
   "name": "python",
   "nbconvert_exporter": "python",
   "pygments_lexer": "ipython3",
   "version": "3.6.4"
  }
 },
 "nbformat": 4,
 "nbformat_minor": 2
}
